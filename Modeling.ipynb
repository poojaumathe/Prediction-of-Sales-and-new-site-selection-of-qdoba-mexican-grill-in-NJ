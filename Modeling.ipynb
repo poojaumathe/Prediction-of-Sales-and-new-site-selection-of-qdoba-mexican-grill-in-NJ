{
 "cells": [
  {
   "cell_type": "markdown",
   "metadata": {},
   "source": [
    "# Modeling"
   ]
  },
  {
   "cell_type": "markdown",
   "metadata": {},
   "source": [
    "Pooja Umathe"
   ]
  },
  {
   "cell_type": "markdown",
   "metadata": {},
   "source": [
    "\n",
    "Linear Regression is a linear approach for modelling the relationship between a scalar dependent variable y and one or more explanatory variables (or independent variables) denoted X. The case of one explanatory variable is called simple linear regression. For more than one explanatory variable, the process is called multiple linear regression.\n",
    "\n",
    "Linear regression models are often fitted using the least squares approach, but they may also be fitted in other ways, such as by minimizing the \"lack of fit\" in some other norm (as with least absolute deviations regression), or by minimizing a penalized version of the least squares cost function as in ridge regression (L2-norm penalty) and lasso (L1-norm penalty)."
   ]
  },
  {
   "cell_type": "code",
   "execution_count": 1,
   "metadata": {},
   "outputs": [],
   "source": [
    "#Loading all the relevant libraries\n",
    "\n",
    "from __future__ import division, print_function\n",
    "import pandas as pd\n",
    "import numpy as np\n",
    "import matplotlib.pyplot as plt\n",
    "import seaborn as sns\n",
    "\n",
    "# import packages for analysis and modeling\n",
    "import statsmodels.api as sm # statistical models (including regression)\n",
    "import statsmodels.formula.api as smf # statistical models (including regression)\n",
    "\n",
    "# Models\n",
    "from sklearn.svm import SVR, LinearSVR\n",
    "from sklearn.ensemble import RandomForestRegressor, ExtraTreesClassifier\n",
    "from sklearn.linear_model import Ridge, Lasso\n",
    "from sklearn import cluster\n",
    "from sklearn.neighbors import KNeighborsClassifier\n",
    "\n",
    "# For scaling/normalizing values\n",
    "from sklearn.preprocessing import MinMaxScaler"
   ]
  },
  {
   "cell_type": "code",
   "execution_count": 2,
   "metadata": {},
   "outputs": [],
   "source": [
    "#Importing data \n",
    "\n",
    "df = pd.read_csv(\"QDOBAMerged_MatrixVersion.csv\")\n"
   ]
  },
  {
   "cell_type": "code",
   "execution_count": 3,
   "metadata": {},
   "outputs": [
    {
     "data": {
      "text/html": [
       "<div>\n",
       "<style scoped>\n",
       "    .dataframe tbody tr th:only-of-type {\n",
       "        vertical-align: middle;\n",
       "    }\n",
       "\n",
       "    .dataframe tbody tr th {\n",
       "        vertical-align: top;\n",
       "    }\n",
       "\n",
       "    .dataframe thead th {\n",
       "        text-align: right;\n",
       "    }\n",
       "</style>\n",
       "<table border=\"1\" class=\"dataframe\">\n",
       "  <thead>\n",
       "    <tr style=\"text-align: right;\">\n",
       "      <th></th>\n",
       "      <th>Unnamed: 0</th>\n",
       "      <th>Location</th>\n",
       "      <th>Address</th>\n",
       "      <th>City_x</th>\n",
       "      <th>State_x</th>\n",
       "      <th>Zipcode</th>\n",
       "      <th>Competitors</th>\n",
       "      <th>County</th>\n",
       "      <th>Latitude</th>\n",
       "      <th>Longitude</th>\n",
       "      <th>...</th>\n",
       "      <th>TotHouse_medium</th>\n",
       "      <th>TotHouse_high</th>\n",
       "      <th>TotHouse_veryhigh</th>\n",
       "      <th>TotHouse_upper</th>\n",
       "      <th>TotHunits_medium</th>\n",
       "      <th>TotHunits_high</th>\n",
       "      <th>TotHunits_veryhigh</th>\n",
       "      <th>TotHunits_upper</th>\n",
       "      <th>FIPS</th>\n",
       "      <th>StoreSales</th>\n",
       "    </tr>\n",
       "  </thead>\n",
       "  <tbody>\n",
       "    <tr>\n",
       "      <th>0</th>\n",
       "      <td>0</td>\n",
       "      <td>Halsey</td>\n",
       "      <td>64 Halsey St</td>\n",
       "      <td>Newark</td>\n",
       "      <td>NJ</td>\n",
       "      <td>7102</td>\n",
       "      <td>2</td>\n",
       "      <td>ESSEX</td>\n",
       "      <td>40.735502</td>\n",
       "      <td>-74.172845</td>\n",
       "      <td>...</td>\n",
       "      <td>0</td>\n",
       "      <td>0</td>\n",
       "      <td>0</td>\n",
       "      <td>0</td>\n",
       "      <td>0</td>\n",
       "      <td>0</td>\n",
       "      <td>0</td>\n",
       "      <td>0</td>\n",
       "      <td>34013</td>\n",
       "      <td>641068.222610</td>\n",
       "    </tr>\n",
       "    <tr>\n",
       "      <th>1</th>\n",
       "      <td>1</td>\n",
       "      <td>Newark Airport</td>\n",
       "      <td>10 Toler Place</td>\n",
       "      <td>Newark</td>\n",
       "      <td>NJ</td>\n",
       "      <td>7114</td>\n",
       "      <td>3</td>\n",
       "      <td>ESSEX</td>\n",
       "      <td>40.697442</td>\n",
       "      <td>-74.166362</td>\n",
       "      <td>...</td>\n",
       "      <td>0</td>\n",
       "      <td>0</td>\n",
       "      <td>0</td>\n",
       "      <td>0</td>\n",
       "      <td>1</td>\n",
       "      <td>0</td>\n",
       "      <td>0</td>\n",
       "      <td>0</td>\n",
       "      <td>34013</td>\n",
       "      <td>593444.838546</td>\n",
       "    </tr>\n",
       "    <tr>\n",
       "      <th>2</th>\n",
       "      <td>2</td>\n",
       "      <td>Union</td>\n",
       "      <td>2268 US Highway 22 E</td>\n",
       "      <td>Union</td>\n",
       "      <td>NJ</td>\n",
       "      <td>7083</td>\n",
       "      <td>1</td>\n",
       "      <td>UNION</td>\n",
       "      <td>40.693475</td>\n",
       "      <td>-74.267224</td>\n",
       "      <td>...</td>\n",
       "      <td>0</td>\n",
       "      <td>0</td>\n",
       "      <td>0</td>\n",
       "      <td>1</td>\n",
       "      <td>0</td>\n",
       "      <td>0</td>\n",
       "      <td>0</td>\n",
       "      <td>1</td>\n",
       "      <td>34039</td>\n",
       "      <td>652391.301492</td>\n",
       "    </tr>\n",
       "  </tbody>\n",
       "</table>\n",
       "<p>3 rows × 42 columns</p>\n",
       "</div>"
      ],
      "text/plain": [
       "   Unnamed: 0        Location               Address  City_x State_x  Zipcode  \\\n",
       "0           0          Halsey          64 Halsey St  Newark      NJ     7102   \n",
       "1           1  Newark Airport        10 Toler Place  Newark      NJ     7114   \n",
       "2           2           Union  2268 US Highway 22 E   Union      NJ     7083   \n",
       "\n",
       "   Competitors County   Latitude  Longitude  ...  TotHouse_medium  \\\n",
       "0            2  ESSEX  40.735502 -74.172845  ...                0   \n",
       "1            3  ESSEX  40.697442 -74.166362  ...                0   \n",
       "2            1  UNION  40.693475 -74.267224  ...                0   \n",
       "\n",
       "   TotHouse_high  TotHouse_veryhigh  TotHouse_upper  TotHunits_medium  \\\n",
       "0              0                  0               0                 0   \n",
       "1              0                  0               0                 1   \n",
       "2              0                  0               1                 0   \n",
       "\n",
       "   TotHunits_high  TotHunits_veryhigh  TotHunits_upper   FIPS     StoreSales  \n",
       "0               0                   0                0  34013  641068.222610  \n",
       "1               0                   0                0  34013  593444.838546  \n",
       "2               0                   0                1  34039  652391.301492  \n",
       "\n",
       "[3 rows x 42 columns]"
      ]
     },
     "execution_count": 3,
     "metadata": {},
     "output_type": "execute_result"
    }
   ],
   "source": [
    "df.head(3)"
   ]
  },
  {
   "cell_type": "code",
   "execution_count": 4,
   "metadata": {},
   "outputs": [
    {
     "data": {
      "text/plain": [
       "Index(['Unnamed: 0', 'Location', 'Address', 'City_x', 'State_x', 'Zipcode',\n",
       "       'Competitors', 'County', 'Latitude', 'Longitude', 'CountyLat',\n",
       "       'CountyLong', 'Undergraduate', 'Graduate', 'HSGrad', 'LessHS',\n",
       "       'HouseHoldSize', 'Diversity_medium', 'Diversity_high',\n",
       "       'Diversity_veryhigh', 'Diversity_upper', 'MedianInc_medium',\n",
       "       'MedianInc_high', 'MedianInc_veryhigh', 'MedianInc_upper', 'Pop_medium',\n",
       "       'Pop_high', 'Pop_veryhigh', 'Pop_upper', 'MedianAg_under40',\n",
       "       'MedianAg_under42', 'MedianAg_above41', 'TotHouse_medium',\n",
       "       'TotHouse_high', 'TotHouse_veryhigh', 'TotHouse_upper',\n",
       "       'TotHunits_medium', 'TotHunits_high', 'TotHunits_veryhigh',\n",
       "       'TotHunits_upper', 'FIPS', 'StoreSales'],\n",
       "      dtype='object')"
      ]
     },
     "execution_count": 4,
     "metadata": {},
     "output_type": "execute_result"
    }
   ],
   "source": [
    "df.columns"
   ]
  },
  {
   "cell_type": "code",
   "execution_count": 5,
   "metadata": {},
   "outputs": [
    {
     "name": "stdout",
     "output_type": "stream",
     "text": [
      "<class 'pandas.core.frame.DataFrame'>\n",
      "RangeIndex: 34 entries, 0 to 33\n",
      "Data columns (total 42 columns):\n",
      "Unnamed: 0            34 non-null int64\n",
      "Location              34 non-null object\n",
      "Address               34 non-null object\n",
      "City_x                34 non-null object\n",
      "State_x               34 non-null object\n",
      "Zipcode               34 non-null int64\n",
      "Competitors           34 non-null int64\n",
      "County                34 non-null object\n",
      "Latitude              34 non-null float64\n",
      "Longitude             34 non-null float64\n",
      "CountyLat             34 non-null float64\n",
      "CountyLong            34 non-null float64\n",
      "Undergraduate         34 non-null int64\n",
      "Graduate              34 non-null int64\n",
      "HSGrad                34 non-null int64\n",
      "LessHS                34 non-null int64\n",
      "HouseHoldSize         34 non-null int64\n",
      "Diversity_medium      34 non-null int64\n",
      "Diversity_high        34 non-null int64\n",
      "Diversity_veryhigh    34 non-null int64\n",
      "Diversity_upper       34 non-null int64\n",
      "MedianInc_medium      34 non-null int64\n",
      "MedianInc_high        34 non-null int64\n",
      "MedianInc_veryhigh    34 non-null int64\n",
      "MedianInc_upper       34 non-null int64\n",
      "Pop_medium            34 non-null int64\n",
      "Pop_high              34 non-null int64\n",
      "Pop_veryhigh          34 non-null int64\n",
      "Pop_upper             34 non-null int64\n",
      "MedianAg_under40      34 non-null int64\n",
      "MedianAg_under42      34 non-null int64\n",
      "MedianAg_above41      34 non-null int64\n",
      "TotHouse_medium       34 non-null int64\n",
      "TotHouse_high         34 non-null int64\n",
      "TotHouse_veryhigh     34 non-null int64\n",
      "TotHouse_upper        34 non-null int64\n",
      "TotHunits_medium      34 non-null int64\n",
      "TotHunits_high        34 non-null int64\n",
      "TotHunits_veryhigh    34 non-null int64\n",
      "TotHunits_upper       34 non-null int64\n",
      "FIPS                  34 non-null int64\n",
      "StoreSales            34 non-null float64\n",
      "dtypes: float64(5), int64(32), object(5)\n",
      "memory usage: 11.2+ KB\n"
     ]
    }
   ],
   "source": [
    "df.info()"
   ]
  },
  {
   "cell_type": "code",
   "execution_count": 6,
   "metadata": {},
   "outputs": [
    {
     "data": {
      "text/html": [
       "<div>\n",
       "<style scoped>\n",
       "    .dataframe tbody tr th:only-of-type {\n",
       "        vertical-align: middle;\n",
       "    }\n",
       "\n",
       "    .dataframe tbody tr th {\n",
       "        vertical-align: top;\n",
       "    }\n",
       "\n",
       "    .dataframe thead th {\n",
       "        text-align: right;\n",
       "    }\n",
       "</style>\n",
       "<table border=\"1\" class=\"dataframe\">\n",
       "  <thead>\n",
       "    <tr style=\"text-align: right;\">\n",
       "      <th></th>\n",
       "      <th>Unnamed: 0</th>\n",
       "      <th>Zipcode</th>\n",
       "      <th>Competitors</th>\n",
       "      <th>Latitude</th>\n",
       "      <th>Longitude</th>\n",
       "      <th>CountyLat</th>\n",
       "      <th>CountyLong</th>\n",
       "      <th>Undergraduate</th>\n",
       "      <th>Graduate</th>\n",
       "      <th>HSGrad</th>\n",
       "      <th>...</th>\n",
       "      <th>TotHouse_medium</th>\n",
       "      <th>TotHouse_high</th>\n",
       "      <th>TotHouse_veryhigh</th>\n",
       "      <th>TotHouse_upper</th>\n",
       "      <th>TotHunits_medium</th>\n",
       "      <th>TotHunits_high</th>\n",
       "      <th>TotHunits_veryhigh</th>\n",
       "      <th>TotHunits_upper</th>\n",
       "      <th>FIPS</th>\n",
       "      <th>StoreSales</th>\n",
       "    </tr>\n",
       "  </thead>\n",
       "  <tbody>\n",
       "    <tr>\n",
       "      <th>count</th>\n",
       "      <td>34.000000</td>\n",
       "      <td>34.000000</td>\n",
       "      <td>34.000000</td>\n",
       "      <td>34.000000</td>\n",
       "      <td>34.000000</td>\n",
       "      <td>34.000000</td>\n",
       "      <td>34.000000</td>\n",
       "      <td>34.000000</td>\n",
       "      <td>34.000000</td>\n",
       "      <td>34.000000</td>\n",
       "      <td>...</td>\n",
       "      <td>34.000000</td>\n",
       "      <td>34.000000</td>\n",
       "      <td>34.000000</td>\n",
       "      <td>34.000000</td>\n",
       "      <td>34.000000</td>\n",
       "      <td>34.000000</td>\n",
       "      <td>34.000000</td>\n",
       "      <td>34.000000</td>\n",
       "      <td>34.000000</td>\n",
       "      <td>34.000000</td>\n",
       "    </tr>\n",
       "    <tr>\n",
       "      <th>mean</th>\n",
       "      <td>16.500000</td>\n",
       "      <td>7873.823529</td>\n",
       "      <td>2.176471</td>\n",
       "      <td>40.458534</td>\n",
       "      <td>-74.507016</td>\n",
       "      <td>40.439504</td>\n",
       "      <td>-74.511329</td>\n",
       "      <td>9823.382353</td>\n",
       "      <td>5793.411765</td>\n",
       "      <td>12146.058824</td>\n",
       "      <td>...</td>\n",
       "      <td>0.205882</td>\n",
       "      <td>0.176471</td>\n",
       "      <td>0.205882</td>\n",
       "      <td>0.205882</td>\n",
       "      <td>0.205882</td>\n",
       "      <td>0.176471</td>\n",
       "      <td>0.205882</td>\n",
       "      <td>0.205882</td>\n",
       "      <td>34020.647059</td>\n",
       "      <td>591759.418214</td>\n",
       "    </tr>\n",
       "    <tr>\n",
       "      <th>std</th>\n",
       "      <td>9.958246</td>\n",
       "      <td>618.777557</td>\n",
       "      <td>0.968303</td>\n",
       "      <td>0.497323</td>\n",
       "      <td>0.368602</td>\n",
       "      <td>0.536819</td>\n",
       "      <td>0.351578</td>\n",
       "      <td>6675.649895</td>\n",
       "      <td>5073.151104</td>\n",
       "      <td>8011.114064</td>\n",
       "      <td>...</td>\n",
       "      <td>0.410426</td>\n",
       "      <td>0.386953</td>\n",
       "      <td>0.410426</td>\n",
       "      <td>0.410426</td>\n",
       "      <td>0.410426</td>\n",
       "      <td>0.386953</td>\n",
       "      <td>0.410426</td>\n",
       "      <td>0.410426</td>\n",
       "      <td>11.656400</td>\n",
       "      <td>69803.865681</td>\n",
       "    </tr>\n",
       "    <tr>\n",
       "      <th>min</th>\n",
       "      <td>0.000000</td>\n",
       "      <td>7002.000000</td>\n",
       "      <td>1.000000</td>\n",
       "      <td>38.985802</td>\n",
       "      <td>-75.449672</td>\n",
       "      <td>39.086142</td>\n",
       "      <td>-75.357356</td>\n",
       "      <td>960.000000</td>\n",
       "      <td>252.000000</td>\n",
       "      <td>1008.000000</td>\n",
       "      <td>...</td>\n",
       "      <td>0.000000</td>\n",
       "      <td>0.000000</td>\n",
       "      <td>0.000000</td>\n",
       "      <td>0.000000</td>\n",
       "      <td>0.000000</td>\n",
       "      <td>0.000000</td>\n",
       "      <td>0.000000</td>\n",
       "      <td>0.000000</td>\n",
       "      <td>34001.000000</td>\n",
       "      <td>460318.642785</td>\n",
       "    </tr>\n",
       "    <tr>\n",
       "      <th>25%</th>\n",
       "      <td>8.250000</td>\n",
       "      <td>7335.000000</td>\n",
       "      <td>1.000000</td>\n",
       "      <td>40.261257</td>\n",
       "      <td>-74.738154</td>\n",
       "      <td>40.282503</td>\n",
       "      <td>-74.700757</td>\n",
       "      <td>5090.250000</td>\n",
       "      <td>1906.500000</td>\n",
       "      <td>7098.000000</td>\n",
       "      <td>...</td>\n",
       "      <td>0.000000</td>\n",
       "      <td>0.000000</td>\n",
       "      <td>0.000000</td>\n",
       "      <td>0.000000</td>\n",
       "      <td>0.000000</td>\n",
       "      <td>0.000000</td>\n",
       "      <td>0.000000</td>\n",
       "      <td>0.000000</td>\n",
       "      <td>34013.000000</td>\n",
       "      <td>558706.688760</td>\n",
       "    </tr>\n",
       "    <tr>\n",
       "      <th>50%</th>\n",
       "      <td>16.500000</td>\n",
       "      <td>7854.500000</td>\n",
       "      <td>2.000000</td>\n",
       "      <td>40.647419</td>\n",
       "      <td>-74.453451</td>\n",
       "      <td>40.612696</td>\n",
       "      <td>-74.477506</td>\n",
       "      <td>8084.500000</td>\n",
       "      <td>4119.000000</td>\n",
       "      <td>10535.000000</td>\n",
       "      <td>...</td>\n",
       "      <td>0.000000</td>\n",
       "      <td>0.000000</td>\n",
       "      <td>0.000000</td>\n",
       "      <td>0.000000</td>\n",
       "      <td>0.000000</td>\n",
       "      <td>0.000000</td>\n",
       "      <td>0.000000</td>\n",
       "      <td>0.000000</td>\n",
       "      <td>34021.000000</td>\n",
       "      <td>586253.773696</td>\n",
       "    </tr>\n",
       "    <tr>\n",
       "      <th>75%</th>\n",
       "      <td>24.750000</td>\n",
       "      <td>8277.500000</td>\n",
       "      <td>3.000000</td>\n",
       "      <td>40.772529</td>\n",
       "      <td>-74.229790</td>\n",
       "      <td>40.836947</td>\n",
       "      <td>-74.246136</td>\n",
       "      <td>14270.250000</td>\n",
       "      <td>8411.250000</td>\n",
       "      <td>14548.250000</td>\n",
       "      <td>...</td>\n",
       "      <td>0.000000</td>\n",
       "      <td>0.000000</td>\n",
       "      <td>0.000000</td>\n",
       "      <td>0.000000</td>\n",
       "      <td>0.000000</td>\n",
       "      <td>0.000000</td>\n",
       "      <td>0.000000</td>\n",
       "      <td>0.000000</td>\n",
       "      <td>34028.500000</td>\n",
       "      <td>630839.812152</td>\n",
       "    </tr>\n",
       "    <tr>\n",
       "      <th>max</th>\n",
       "      <td>33.000000</td>\n",
       "      <td>8854.000000</td>\n",
       "      <td>4.000000</td>\n",
       "      <td>40.957694</td>\n",
       "      <td>-74.029994</td>\n",
       "      <td>41.137424</td>\n",
       "      <td>-74.074522</td>\n",
       "      <td>29186.000000</td>\n",
       "      <td>24016.000000</td>\n",
       "      <td>34697.000000</td>\n",
       "      <td>...</td>\n",
       "      <td>1.000000</td>\n",
       "      <td>1.000000</td>\n",
       "      <td>1.000000</td>\n",
       "      <td>1.000000</td>\n",
       "      <td>1.000000</td>\n",
       "      <td>1.000000</td>\n",
       "      <td>1.000000</td>\n",
       "      <td>1.000000</td>\n",
       "      <td>34041.000000</td>\n",
       "      <td>742735.524972</td>\n",
       "    </tr>\n",
       "  </tbody>\n",
       "</table>\n",
       "<p>8 rows × 37 columns</p>\n",
       "</div>"
      ],
      "text/plain": [
       "       Unnamed: 0      Zipcode  Competitors   Latitude  Longitude  CountyLat  \\\n",
       "count   34.000000    34.000000    34.000000  34.000000  34.000000  34.000000   \n",
       "mean    16.500000  7873.823529     2.176471  40.458534 -74.507016  40.439504   \n",
       "std      9.958246   618.777557     0.968303   0.497323   0.368602   0.536819   \n",
       "min      0.000000  7002.000000     1.000000  38.985802 -75.449672  39.086142   \n",
       "25%      8.250000  7335.000000     1.000000  40.261257 -74.738154  40.282503   \n",
       "50%     16.500000  7854.500000     2.000000  40.647419 -74.453451  40.612696   \n",
       "75%     24.750000  8277.500000     3.000000  40.772529 -74.229790  40.836947   \n",
       "max     33.000000  8854.000000     4.000000  40.957694 -74.029994  41.137424   \n",
       "\n",
       "       CountyLong  Undergraduate      Graduate        HSGrad  ...  \\\n",
       "count   34.000000      34.000000     34.000000     34.000000  ...   \n",
       "mean   -74.511329    9823.382353   5793.411765  12146.058824  ...   \n",
       "std      0.351578    6675.649895   5073.151104   8011.114064  ...   \n",
       "min    -75.357356     960.000000    252.000000   1008.000000  ...   \n",
       "25%    -74.700757    5090.250000   1906.500000   7098.000000  ...   \n",
       "50%    -74.477506    8084.500000   4119.000000  10535.000000  ...   \n",
       "75%    -74.246136   14270.250000   8411.250000  14548.250000  ...   \n",
       "max    -74.074522   29186.000000  24016.000000  34697.000000  ...   \n",
       "\n",
       "       TotHouse_medium  TotHouse_high  TotHouse_veryhigh  TotHouse_upper  \\\n",
       "count        34.000000      34.000000          34.000000       34.000000   \n",
       "mean          0.205882       0.176471           0.205882        0.205882   \n",
       "std           0.410426       0.386953           0.410426        0.410426   \n",
       "min           0.000000       0.000000           0.000000        0.000000   \n",
       "25%           0.000000       0.000000           0.000000        0.000000   \n",
       "50%           0.000000       0.000000           0.000000        0.000000   \n",
       "75%           0.000000       0.000000           0.000000        0.000000   \n",
       "max           1.000000       1.000000           1.000000        1.000000   \n",
       "\n",
       "       TotHunits_medium  TotHunits_high  TotHunits_veryhigh  TotHunits_upper  \\\n",
       "count         34.000000       34.000000           34.000000        34.000000   \n",
       "mean           0.205882        0.176471            0.205882         0.205882   \n",
       "std            0.410426        0.386953            0.410426         0.410426   \n",
       "min            0.000000        0.000000            0.000000         0.000000   \n",
       "25%            0.000000        0.000000            0.000000         0.000000   \n",
       "50%            0.000000        0.000000            0.000000         0.000000   \n",
       "75%            0.000000        0.000000            0.000000         0.000000   \n",
       "max            1.000000        1.000000            1.000000         1.000000   \n",
       "\n",
       "               FIPS     StoreSales  \n",
       "count     34.000000      34.000000  \n",
       "mean   34020.647059  591759.418214  \n",
       "std       11.656400   69803.865681  \n",
       "min    34001.000000  460318.642785  \n",
       "25%    34013.000000  558706.688760  \n",
       "50%    34021.000000  586253.773696  \n",
       "75%    34028.500000  630839.812152  \n",
       "max    34041.000000  742735.524972  \n",
       "\n",
       "[8 rows x 37 columns]"
      ]
     },
     "execution_count": 6,
     "metadata": {},
     "output_type": "execute_result"
    }
   ],
   "source": [
    "df.describe()"
   ]
  },
  {
   "cell_type": "code",
   "execution_count": 7,
   "metadata": {},
   "outputs": [
    {
     "data": {
      "text/html": [
       "<div>\n",
       "<style scoped>\n",
       "    .dataframe tbody tr th:only-of-type {\n",
       "        vertical-align: middle;\n",
       "    }\n",
       "\n",
       "    .dataframe tbody tr th {\n",
       "        vertical-align: top;\n",
       "    }\n",
       "\n",
       "    .dataframe thead th {\n",
       "        text-align: right;\n",
       "    }\n",
       "</style>\n",
       "<table border=\"1\" class=\"dataframe\">\n",
       "  <thead>\n",
       "    <tr style=\"text-align: right;\">\n",
       "      <th></th>\n",
       "      <th>count</th>\n",
       "      <th>mean</th>\n",
       "      <th>std</th>\n",
       "      <th>min</th>\n",
       "      <th>25%</th>\n",
       "      <th>50%</th>\n",
       "      <th>75%</th>\n",
       "      <th>max</th>\n",
       "    </tr>\n",
       "  </thead>\n",
       "  <tbody>\n",
       "    <tr>\n",
       "      <th>Unnamed: 0</th>\n",
       "      <td>34.0</td>\n",
       "      <td>16.500000</td>\n",
       "      <td>9.958246</td>\n",
       "      <td>0.000000</td>\n",
       "      <td>8.250000</td>\n",
       "      <td>16.500000</td>\n",
       "      <td>24.750000</td>\n",
       "      <td>33.000000</td>\n",
       "    </tr>\n",
       "    <tr>\n",
       "      <th>Zipcode</th>\n",
       "      <td>34.0</td>\n",
       "      <td>7873.823529</td>\n",
       "      <td>618.777557</td>\n",
       "      <td>7002.000000</td>\n",
       "      <td>7335.000000</td>\n",
       "      <td>7854.500000</td>\n",
       "      <td>8277.500000</td>\n",
       "      <td>8854.000000</td>\n",
       "    </tr>\n",
       "    <tr>\n",
       "      <th>Competitors</th>\n",
       "      <td>34.0</td>\n",
       "      <td>2.176471</td>\n",
       "      <td>0.968303</td>\n",
       "      <td>1.000000</td>\n",
       "      <td>1.000000</td>\n",
       "      <td>2.000000</td>\n",
       "      <td>3.000000</td>\n",
       "      <td>4.000000</td>\n",
       "    </tr>\n",
       "    <tr>\n",
       "      <th>Latitude</th>\n",
       "      <td>34.0</td>\n",
       "      <td>40.458534</td>\n",
       "      <td>0.497323</td>\n",
       "      <td>38.985802</td>\n",
       "      <td>40.261257</td>\n",
       "      <td>40.647419</td>\n",
       "      <td>40.772529</td>\n",
       "      <td>40.957694</td>\n",
       "    </tr>\n",
       "    <tr>\n",
       "      <th>Longitude</th>\n",
       "      <td>34.0</td>\n",
       "      <td>-74.507016</td>\n",
       "      <td>0.368602</td>\n",
       "      <td>-75.449672</td>\n",
       "      <td>-74.738154</td>\n",
       "      <td>-74.453451</td>\n",
       "      <td>-74.229790</td>\n",
       "      <td>-74.029994</td>\n",
       "    </tr>\n",
       "    <tr>\n",
       "      <th>CountyLat</th>\n",
       "      <td>34.0</td>\n",
       "      <td>40.439504</td>\n",
       "      <td>0.536819</td>\n",
       "      <td>39.086142</td>\n",
       "      <td>40.282503</td>\n",
       "      <td>40.612696</td>\n",
       "      <td>40.836947</td>\n",
       "      <td>41.137424</td>\n",
       "    </tr>\n",
       "    <tr>\n",
       "      <th>CountyLong</th>\n",
       "      <td>34.0</td>\n",
       "      <td>-74.511329</td>\n",
       "      <td>0.351578</td>\n",
       "      <td>-75.357356</td>\n",
       "      <td>-74.700757</td>\n",
       "      <td>-74.477506</td>\n",
       "      <td>-74.246136</td>\n",
       "      <td>-74.074522</td>\n",
       "    </tr>\n",
       "    <tr>\n",
       "      <th>Undergraduate</th>\n",
       "      <td>34.0</td>\n",
       "      <td>9823.382353</td>\n",
       "      <td>6675.649895</td>\n",
       "      <td>960.000000</td>\n",
       "      <td>5090.250000</td>\n",
       "      <td>8084.500000</td>\n",
       "      <td>14270.250000</td>\n",
       "      <td>29186.000000</td>\n",
       "    </tr>\n",
       "    <tr>\n",
       "      <th>Graduate</th>\n",
       "      <td>34.0</td>\n",
       "      <td>5793.411765</td>\n",
       "      <td>5073.151104</td>\n",
       "      <td>252.000000</td>\n",
       "      <td>1906.500000</td>\n",
       "      <td>4119.000000</td>\n",
       "      <td>8411.250000</td>\n",
       "      <td>24016.000000</td>\n",
       "    </tr>\n",
       "    <tr>\n",
       "      <th>HSGrad</th>\n",
       "      <td>34.0</td>\n",
       "      <td>12146.058824</td>\n",
       "      <td>8011.114064</td>\n",
       "      <td>1008.000000</td>\n",
       "      <td>7098.000000</td>\n",
       "      <td>10535.000000</td>\n",
       "      <td>14548.250000</td>\n",
       "      <td>34697.000000</td>\n",
       "    </tr>\n",
       "    <tr>\n",
       "      <th>LessHS</th>\n",
       "      <td>34.0</td>\n",
       "      <td>2849.617647</td>\n",
       "      <td>2495.673031</td>\n",
       "      <td>137.000000</td>\n",
       "      <td>1199.000000</td>\n",
       "      <td>2356.000000</td>\n",
       "      <td>3361.500000</td>\n",
       "      <td>12397.000000</td>\n",
       "    </tr>\n",
       "    <tr>\n",
       "      <th>HouseHoldSize</th>\n",
       "      <td>34.0</td>\n",
       "      <td>2.794118</td>\n",
       "      <td>0.410426</td>\n",
       "      <td>2.000000</td>\n",
       "      <td>3.000000</td>\n",
       "      <td>3.000000</td>\n",
       "      <td>3.000000</td>\n",
       "      <td>3.000000</td>\n",
       "    </tr>\n",
       "    <tr>\n",
       "      <th>Diversity_medium</th>\n",
       "      <td>34.0</td>\n",
       "      <td>0.205882</td>\n",
       "      <td>0.410426</td>\n",
       "      <td>0.000000</td>\n",
       "      <td>0.000000</td>\n",
       "      <td>0.000000</td>\n",
       "      <td>0.000000</td>\n",
       "      <td>1.000000</td>\n",
       "    </tr>\n",
       "    <tr>\n",
       "      <th>Diversity_high</th>\n",
       "      <td>34.0</td>\n",
       "      <td>0.205882</td>\n",
       "      <td>0.410426</td>\n",
       "      <td>0.000000</td>\n",
       "      <td>0.000000</td>\n",
       "      <td>0.000000</td>\n",
       "      <td>0.000000</td>\n",
       "      <td>1.000000</td>\n",
       "    </tr>\n",
       "    <tr>\n",
       "      <th>Diversity_veryhigh</th>\n",
       "      <td>34.0</td>\n",
       "      <td>0.176471</td>\n",
       "      <td>0.386953</td>\n",
       "      <td>0.000000</td>\n",
       "      <td>0.000000</td>\n",
       "      <td>0.000000</td>\n",
       "      <td>0.000000</td>\n",
       "      <td>1.000000</td>\n",
       "    </tr>\n",
       "    <tr>\n",
       "      <th>Diversity_upper</th>\n",
       "      <td>34.0</td>\n",
       "      <td>0.205882</td>\n",
       "      <td>0.410426</td>\n",
       "      <td>0.000000</td>\n",
       "      <td>0.000000</td>\n",
       "      <td>0.000000</td>\n",
       "      <td>0.000000</td>\n",
       "      <td>1.000000</td>\n",
       "    </tr>\n",
       "    <tr>\n",
       "      <th>MedianInc_medium</th>\n",
       "      <td>34.0</td>\n",
       "      <td>0.205882</td>\n",
       "      <td>0.410426</td>\n",
       "      <td>0.000000</td>\n",
       "      <td>0.000000</td>\n",
       "      <td>0.000000</td>\n",
       "      <td>0.000000</td>\n",
       "      <td>1.000000</td>\n",
       "    </tr>\n",
       "    <tr>\n",
       "      <th>MedianInc_high</th>\n",
       "      <td>34.0</td>\n",
       "      <td>0.176471</td>\n",
       "      <td>0.386953</td>\n",
       "      <td>0.000000</td>\n",
       "      <td>0.000000</td>\n",
       "      <td>0.000000</td>\n",
       "      <td>0.000000</td>\n",
       "      <td>1.000000</td>\n",
       "    </tr>\n",
       "    <tr>\n",
       "      <th>MedianInc_veryhigh</th>\n",
       "      <td>34.0</td>\n",
       "      <td>0.205882</td>\n",
       "      <td>0.410426</td>\n",
       "      <td>0.000000</td>\n",
       "      <td>0.000000</td>\n",
       "      <td>0.000000</td>\n",
       "      <td>0.000000</td>\n",
       "      <td>1.000000</td>\n",
       "    </tr>\n",
       "    <tr>\n",
       "      <th>MedianInc_upper</th>\n",
       "      <td>34.0</td>\n",
       "      <td>0.205882</td>\n",
       "      <td>0.410426</td>\n",
       "      <td>0.000000</td>\n",
       "      <td>0.000000</td>\n",
       "      <td>0.000000</td>\n",
       "      <td>0.000000</td>\n",
       "      <td>1.000000</td>\n",
       "    </tr>\n",
       "    <tr>\n",
       "      <th>Pop_medium</th>\n",
       "      <td>34.0</td>\n",
       "      <td>0.205882</td>\n",
       "      <td>0.410426</td>\n",
       "      <td>0.000000</td>\n",
       "      <td>0.000000</td>\n",
       "      <td>0.000000</td>\n",
       "      <td>0.000000</td>\n",
       "      <td>1.000000</td>\n",
       "    </tr>\n",
       "    <tr>\n",
       "      <th>Pop_high</th>\n",
       "      <td>34.0</td>\n",
       "      <td>0.176471</td>\n",
       "      <td>0.386953</td>\n",
       "      <td>0.000000</td>\n",
       "      <td>0.000000</td>\n",
       "      <td>0.000000</td>\n",
       "      <td>0.000000</td>\n",
       "      <td>1.000000</td>\n",
       "    </tr>\n",
       "    <tr>\n",
       "      <th>Pop_veryhigh</th>\n",
       "      <td>34.0</td>\n",
       "      <td>0.205882</td>\n",
       "      <td>0.410426</td>\n",
       "      <td>0.000000</td>\n",
       "      <td>0.000000</td>\n",
       "      <td>0.000000</td>\n",
       "      <td>0.000000</td>\n",
       "      <td>1.000000</td>\n",
       "    </tr>\n",
       "    <tr>\n",
       "      <th>Pop_upper</th>\n",
       "      <td>34.0</td>\n",
       "      <td>0.205882</td>\n",
       "      <td>0.410426</td>\n",
       "      <td>0.000000</td>\n",
       "      <td>0.000000</td>\n",
       "      <td>0.000000</td>\n",
       "      <td>0.000000</td>\n",
       "      <td>1.000000</td>\n",
       "    </tr>\n",
       "    <tr>\n",
       "      <th>MedianAg_under40</th>\n",
       "      <td>34.0</td>\n",
       "      <td>0.323529</td>\n",
       "      <td>0.474858</td>\n",
       "      <td>0.000000</td>\n",
       "      <td>0.000000</td>\n",
       "      <td>0.000000</td>\n",
       "      <td>1.000000</td>\n",
       "      <td>1.000000</td>\n",
       "    </tr>\n",
       "    <tr>\n",
       "      <th>MedianAg_under42</th>\n",
       "      <td>34.0</td>\n",
       "      <td>0.088235</td>\n",
       "      <td>0.287902</td>\n",
       "      <td>0.000000</td>\n",
       "      <td>0.000000</td>\n",
       "      <td>0.000000</td>\n",
       "      <td>0.000000</td>\n",
       "      <td>1.000000</td>\n",
       "    </tr>\n",
       "    <tr>\n",
       "      <th>MedianAg_above41</th>\n",
       "      <td>34.0</td>\n",
       "      <td>0.352941</td>\n",
       "      <td>0.485071</td>\n",
       "      <td>0.000000</td>\n",
       "      <td>0.000000</td>\n",
       "      <td>0.000000</td>\n",
       "      <td>1.000000</td>\n",
       "      <td>1.000000</td>\n",
       "    </tr>\n",
       "    <tr>\n",
       "      <th>TotHouse_medium</th>\n",
       "      <td>34.0</td>\n",
       "      <td>0.205882</td>\n",
       "      <td>0.410426</td>\n",
       "      <td>0.000000</td>\n",
       "      <td>0.000000</td>\n",
       "      <td>0.000000</td>\n",
       "      <td>0.000000</td>\n",
       "      <td>1.000000</td>\n",
       "    </tr>\n",
       "    <tr>\n",
       "      <th>TotHouse_high</th>\n",
       "      <td>34.0</td>\n",
       "      <td>0.176471</td>\n",
       "      <td>0.386953</td>\n",
       "      <td>0.000000</td>\n",
       "      <td>0.000000</td>\n",
       "      <td>0.000000</td>\n",
       "      <td>0.000000</td>\n",
       "      <td>1.000000</td>\n",
       "    </tr>\n",
       "    <tr>\n",
       "      <th>TotHouse_veryhigh</th>\n",
       "      <td>34.0</td>\n",
       "      <td>0.205882</td>\n",
       "      <td>0.410426</td>\n",
       "      <td>0.000000</td>\n",
       "      <td>0.000000</td>\n",
       "      <td>0.000000</td>\n",
       "      <td>0.000000</td>\n",
       "      <td>1.000000</td>\n",
       "    </tr>\n",
       "    <tr>\n",
       "      <th>TotHouse_upper</th>\n",
       "      <td>34.0</td>\n",
       "      <td>0.205882</td>\n",
       "      <td>0.410426</td>\n",
       "      <td>0.000000</td>\n",
       "      <td>0.000000</td>\n",
       "      <td>0.000000</td>\n",
       "      <td>0.000000</td>\n",
       "      <td>1.000000</td>\n",
       "    </tr>\n",
       "    <tr>\n",
       "      <th>TotHunits_medium</th>\n",
       "      <td>34.0</td>\n",
       "      <td>0.205882</td>\n",
       "      <td>0.410426</td>\n",
       "      <td>0.000000</td>\n",
       "      <td>0.000000</td>\n",
       "      <td>0.000000</td>\n",
       "      <td>0.000000</td>\n",
       "      <td>1.000000</td>\n",
       "    </tr>\n",
       "    <tr>\n",
       "      <th>TotHunits_high</th>\n",
       "      <td>34.0</td>\n",
       "      <td>0.176471</td>\n",
       "      <td>0.386953</td>\n",
       "      <td>0.000000</td>\n",
       "      <td>0.000000</td>\n",
       "      <td>0.000000</td>\n",
       "      <td>0.000000</td>\n",
       "      <td>1.000000</td>\n",
       "    </tr>\n",
       "    <tr>\n",
       "      <th>TotHunits_veryhigh</th>\n",
       "      <td>34.0</td>\n",
       "      <td>0.205882</td>\n",
       "      <td>0.410426</td>\n",
       "      <td>0.000000</td>\n",
       "      <td>0.000000</td>\n",
       "      <td>0.000000</td>\n",
       "      <td>0.000000</td>\n",
       "      <td>1.000000</td>\n",
       "    </tr>\n",
       "    <tr>\n",
       "      <th>TotHunits_upper</th>\n",
       "      <td>34.0</td>\n",
       "      <td>0.205882</td>\n",
       "      <td>0.410426</td>\n",
       "      <td>0.000000</td>\n",
       "      <td>0.000000</td>\n",
       "      <td>0.000000</td>\n",
       "      <td>0.000000</td>\n",
       "      <td>1.000000</td>\n",
       "    </tr>\n",
       "    <tr>\n",
       "      <th>FIPS</th>\n",
       "      <td>34.0</td>\n",
       "      <td>34020.647059</td>\n",
       "      <td>11.656400</td>\n",
       "      <td>34001.000000</td>\n",
       "      <td>34013.000000</td>\n",
       "      <td>34021.000000</td>\n",
       "      <td>34028.500000</td>\n",
       "      <td>34041.000000</td>\n",
       "    </tr>\n",
       "    <tr>\n",
       "      <th>StoreSales</th>\n",
       "      <td>34.0</td>\n",
       "      <td>591759.418214</td>\n",
       "      <td>69803.865681</td>\n",
       "      <td>460318.642785</td>\n",
       "      <td>558706.688760</td>\n",
       "      <td>586253.773696</td>\n",
       "      <td>630839.812152</td>\n",
       "      <td>742735.524972</td>\n",
       "    </tr>\n",
       "  </tbody>\n",
       "</table>\n",
       "</div>"
      ],
      "text/plain": [
       "                    count           mean           std            min  \\\n",
       "Unnamed: 0           34.0      16.500000      9.958246       0.000000   \n",
       "Zipcode              34.0    7873.823529    618.777557    7002.000000   \n",
       "Competitors          34.0       2.176471      0.968303       1.000000   \n",
       "Latitude             34.0      40.458534      0.497323      38.985802   \n",
       "Longitude            34.0     -74.507016      0.368602     -75.449672   \n",
       "CountyLat            34.0      40.439504      0.536819      39.086142   \n",
       "CountyLong           34.0     -74.511329      0.351578     -75.357356   \n",
       "Undergraduate        34.0    9823.382353   6675.649895     960.000000   \n",
       "Graduate             34.0    5793.411765   5073.151104     252.000000   \n",
       "HSGrad               34.0   12146.058824   8011.114064    1008.000000   \n",
       "LessHS               34.0    2849.617647   2495.673031     137.000000   \n",
       "HouseHoldSize        34.0       2.794118      0.410426       2.000000   \n",
       "Diversity_medium     34.0       0.205882      0.410426       0.000000   \n",
       "Diversity_high       34.0       0.205882      0.410426       0.000000   \n",
       "Diversity_veryhigh   34.0       0.176471      0.386953       0.000000   \n",
       "Diversity_upper      34.0       0.205882      0.410426       0.000000   \n",
       "MedianInc_medium     34.0       0.205882      0.410426       0.000000   \n",
       "MedianInc_high       34.0       0.176471      0.386953       0.000000   \n",
       "MedianInc_veryhigh   34.0       0.205882      0.410426       0.000000   \n",
       "MedianInc_upper      34.0       0.205882      0.410426       0.000000   \n",
       "Pop_medium           34.0       0.205882      0.410426       0.000000   \n",
       "Pop_high             34.0       0.176471      0.386953       0.000000   \n",
       "Pop_veryhigh         34.0       0.205882      0.410426       0.000000   \n",
       "Pop_upper            34.0       0.205882      0.410426       0.000000   \n",
       "MedianAg_under40     34.0       0.323529      0.474858       0.000000   \n",
       "MedianAg_under42     34.0       0.088235      0.287902       0.000000   \n",
       "MedianAg_above41     34.0       0.352941      0.485071       0.000000   \n",
       "TotHouse_medium      34.0       0.205882      0.410426       0.000000   \n",
       "TotHouse_high        34.0       0.176471      0.386953       0.000000   \n",
       "TotHouse_veryhigh    34.0       0.205882      0.410426       0.000000   \n",
       "TotHouse_upper       34.0       0.205882      0.410426       0.000000   \n",
       "TotHunits_medium     34.0       0.205882      0.410426       0.000000   \n",
       "TotHunits_high       34.0       0.176471      0.386953       0.000000   \n",
       "TotHunits_veryhigh   34.0       0.205882      0.410426       0.000000   \n",
       "TotHunits_upper      34.0       0.205882      0.410426       0.000000   \n",
       "FIPS                 34.0   34020.647059     11.656400   34001.000000   \n",
       "StoreSales           34.0  591759.418214  69803.865681  460318.642785   \n",
       "\n",
       "                              25%            50%            75%            max  \n",
       "Unnamed: 0               8.250000      16.500000      24.750000      33.000000  \n",
       "Zipcode               7335.000000    7854.500000    8277.500000    8854.000000  \n",
       "Competitors              1.000000       2.000000       3.000000       4.000000  \n",
       "Latitude                40.261257      40.647419      40.772529      40.957694  \n",
       "Longitude              -74.738154     -74.453451     -74.229790     -74.029994  \n",
       "CountyLat               40.282503      40.612696      40.836947      41.137424  \n",
       "CountyLong             -74.700757     -74.477506     -74.246136     -74.074522  \n",
       "Undergraduate         5090.250000    8084.500000   14270.250000   29186.000000  \n",
       "Graduate              1906.500000    4119.000000    8411.250000   24016.000000  \n",
       "HSGrad                7098.000000   10535.000000   14548.250000   34697.000000  \n",
       "LessHS                1199.000000    2356.000000    3361.500000   12397.000000  \n",
       "HouseHoldSize            3.000000       3.000000       3.000000       3.000000  \n",
       "Diversity_medium         0.000000       0.000000       0.000000       1.000000  \n",
       "Diversity_high           0.000000       0.000000       0.000000       1.000000  \n",
       "Diversity_veryhigh       0.000000       0.000000       0.000000       1.000000  \n",
       "Diversity_upper          0.000000       0.000000       0.000000       1.000000  \n",
       "MedianInc_medium         0.000000       0.000000       0.000000       1.000000  \n",
       "MedianInc_high           0.000000       0.000000       0.000000       1.000000  \n",
       "MedianInc_veryhigh       0.000000       0.000000       0.000000       1.000000  \n",
       "MedianInc_upper          0.000000       0.000000       0.000000       1.000000  \n",
       "Pop_medium               0.000000       0.000000       0.000000       1.000000  \n",
       "Pop_high                 0.000000       0.000000       0.000000       1.000000  \n",
       "Pop_veryhigh             0.000000       0.000000       0.000000       1.000000  \n",
       "Pop_upper                0.000000       0.000000       0.000000       1.000000  \n",
       "MedianAg_under40         0.000000       0.000000       1.000000       1.000000  \n",
       "MedianAg_under42         0.000000       0.000000       0.000000       1.000000  \n",
       "MedianAg_above41         0.000000       0.000000       1.000000       1.000000  \n",
       "TotHouse_medium          0.000000       0.000000       0.000000       1.000000  \n",
       "TotHouse_high            0.000000       0.000000       0.000000       1.000000  \n",
       "TotHouse_veryhigh        0.000000       0.000000       0.000000       1.000000  \n",
       "TotHouse_upper           0.000000       0.000000       0.000000       1.000000  \n",
       "TotHunits_medium         0.000000       0.000000       0.000000       1.000000  \n",
       "TotHunits_high           0.000000       0.000000       0.000000       1.000000  \n",
       "TotHunits_veryhigh       0.000000       0.000000       0.000000       1.000000  \n",
       "TotHunits_upper          0.000000       0.000000       0.000000       1.000000  \n",
       "FIPS                 34013.000000   34021.000000   34028.500000   34041.000000  \n",
       "StoreSales          558706.688760  586253.773696  630839.812152  742735.524972  "
      ]
     },
     "execution_count": 7,
     "metadata": {},
     "output_type": "execute_result"
    }
   ],
   "source": [
    "df.describe().transpose()"
   ]
  },
  {
   "cell_type": "code",
   "execution_count": 8,
   "metadata": {
    "scrolled": false
   },
   "outputs": [
    {
     "data": {
      "text/plain": [
       "<matplotlib.axes._subplots.AxesSubplot at 0x1eb72793c88>"
      ]
     },
     "execution_count": 8,
     "metadata": {},
     "output_type": "execute_result"
    },
    {
     "data": {
      "image/png": "[encoded data removed]",
      "text/plain": [
       "<Figure size 432x288 with 1 Axes>"
      ]
     },
     "metadata": {
      "needs_background": "light"
     },
     "output_type": "display_data"
    }
   ],
   "source": [
    "df.plot.bar(x = 'Zipcode', y = 'StoreSales', rot = 100)"
   ]
  },
  {
   "cell_type": "code",
   "execution_count": 9,
   "metadata": {},
   "outputs": [
    {
     "name": "stderr",
     "output_type": "stream",
     "text": [
      "C:\\Users\\pooja\\Anaconda3\\lib\\site-packages\\seaborn\\axisgrid.py:2065: UserWarning: The `size` parameter has been renamed to `height`; pleaes update your code.\n",
      "  warnings.warn(msg, UserWarning)\n"
     ]
    },
    {
     "data": {
      "text/plain": [
       "<seaborn.axisgrid.PairGrid at 0x1eb72793a20>"
      ]
     },
     "execution_count": 9,
     "metadata": {},
     "output_type": "execute_result"
    },
    {
     "data": {
      "image/png": "[encoded data removed]",
      "text/plain": [
       "<Figure size 1411.2x504 with 4 Axes>"
      ]
     },
     "metadata": {
      "needs_background": "light"
     },
     "output_type": "display_data"
    }
   ],
   "source": [
    "# visualize the relationship between the features and the response using scatterplots\n",
    "sns.pairplot(df, x_vars=['Pop_upper','MedianInc_upper','LessHS','MedianAg_under40'], y_vars='StoreSales', size=7, aspect=0.7)"
   ]
  },
  {
   "cell_type": "code",
   "execution_count": 10,
   "metadata": {},
   "outputs": [
    {
     "data": {
      "text/plain": [
       "Text(0.5, 1.0, 'StoreSales vs Zipcode')"
      ]
     },
     "execution_count": 10,
     "metadata": {},
     "output_type": "execute_result"
    },
    {
     "data": {
      "image/png": "[encoded data removed]",
      "text/plain": [
       "<Figure size 432x288 with 1 Axes>"
      ]
     },
     "metadata": {
      "needs_background": "light"
     },
     "output_type": "display_data"
    }
   ],
   "source": [
    "plt.scatter(df.StoreSales,df.Zipcode)\n",
    "plt.title(\"StoreSales vs Zipcode\")"
   ]
  },
  {
   "cell_type": "code",
   "execution_count": 11,
   "metadata": {},
   "outputs": [
    {
     "data": {
      "text/plain": [
       "Text(0.5, 1.0, 'StoreSales vs Pop_high')"
      ]
     },
     "execution_count": 11,
     "metadata": {},
     "output_type": "execute_result"
    },
    {
     "data": {
      "image/png": "[encoded data removed]",
      "text/plain": [
       "<Figure size 432x288 with 1 Axes>"
      ]
     },
     "metadata": {
      "needs_background": "light"
     },
     "output_type": "display_data"
    }
   ],
   "source": [
    "plt.scatter(df.StoreSales,df.Pop_high)\n",
    "plt.title(\"StoreSales vs Pop_high\")"
   ]
  },
  {
   "cell_type": "code",
   "execution_count": 12,
   "metadata": {},
   "outputs": [
    {
     "data": {
      "text/plain": [
       "Unnamed: 0            34\n",
       "Location              34\n",
       "Address               25\n",
       "City_x                32\n",
       "State_x                1\n",
       "Zipcode               34\n",
       "Competitors            4\n",
       "County                21\n",
       "Latitude              34\n",
       "Longitude             34\n",
       "CountyLat             21\n",
       "CountyLong            21\n",
       "Undergraduate         34\n",
       "Graduate              34\n",
       "HSGrad                34\n",
       "LessHS                34\n",
       "HouseHoldSize          2\n",
       "Diversity_medium       2\n",
       "Diversity_high         2\n",
       "Diversity_veryhigh     2\n",
       "Diversity_upper        2\n",
       "MedianInc_medium       2\n",
       "MedianInc_high         2\n",
       "MedianInc_veryhigh     2\n",
       "MedianInc_upper        2\n",
       "Pop_medium             2\n",
       "Pop_high               2\n",
       "Pop_veryhigh           2\n",
       "Pop_upper              2\n",
       "MedianAg_under40       2\n",
       "MedianAg_under42       2\n",
       "MedianAg_above41       2\n",
       "TotHouse_medium        2\n",
       "TotHouse_high          2\n",
       "TotHouse_veryhigh      2\n",
       "TotHouse_upper         2\n",
       "TotHunits_medium       2\n",
       "TotHunits_high         2\n",
       "TotHunits_veryhigh     2\n",
       "TotHunits_upper        2\n",
       "FIPS                  21\n",
       "StoreSales            34\n",
       "dtype: int64"
      ]
     },
     "execution_count": 12,
     "metadata": {},
     "output_type": "execute_result"
    }
   ],
   "source": [
    "#Count distinct values for each column in Data frame\n",
    "df.apply(lambda x: len(x.unique()))"
   ]
  },
  {
   "cell_type": "code",
   "execution_count": 13,
   "metadata": {},
   "outputs": [],
   "source": [
    "df = df.drop([\"Location\", \"Address\", \"City_x\", \"State_x\", \"County\", \"Longitude\", \"Latitude\", \"CountyLong\",\"Unnamed: 0\"], axis=1)"
   ]
  },
  {
   "cell_type": "code",
   "execution_count": 14,
   "metadata": {},
   "outputs": [
    {
     "data": {
      "text/html": [
       "<div>\n",
       "<style scoped>\n",
       "    .dataframe tbody tr th:only-of-type {\n",
       "        vertical-align: middle;\n",
       "    }\n",
       "\n",
       "    .dataframe tbody tr th {\n",
       "        vertical-align: top;\n",
       "    }\n",
       "\n",
       "    .dataframe thead th {\n",
       "        text-align: right;\n",
       "    }\n",
       "</style>\n",
       "<table border=\"1\" class=\"dataframe\">\n",
       "  <thead>\n",
       "    <tr style=\"text-align: right;\">\n",
       "      <th></th>\n",
       "      <th>Zipcode</th>\n",
       "      <th>Competitors</th>\n",
       "      <th>CountyLat</th>\n",
       "      <th>Undergraduate</th>\n",
       "      <th>Graduate</th>\n",
       "      <th>HSGrad</th>\n",
       "      <th>LessHS</th>\n",
       "      <th>HouseHoldSize</th>\n",
       "      <th>Diversity_medium</th>\n",
       "      <th>Diversity_high</th>\n",
       "      <th>...</th>\n",
       "      <th>TotHouse_medium</th>\n",
       "      <th>TotHouse_high</th>\n",
       "      <th>TotHouse_veryhigh</th>\n",
       "      <th>TotHouse_upper</th>\n",
       "      <th>TotHunits_medium</th>\n",
       "      <th>TotHunits_high</th>\n",
       "      <th>TotHunits_veryhigh</th>\n",
       "      <th>TotHunits_upper</th>\n",
       "      <th>FIPS</th>\n",
       "      <th>StoreSales</th>\n",
       "    </tr>\n",
       "  </thead>\n",
       "  <tbody>\n",
       "    <tr>\n",
       "      <th>0</th>\n",
       "      <td>7102</td>\n",
       "      <td>2</td>\n",
       "      <td>40.787216</td>\n",
       "      <td>1961</td>\n",
       "      <td>1058</td>\n",
       "      <td>5490</td>\n",
       "      <td>3363</td>\n",
       "      <td>2</td>\n",
       "      <td>0</td>\n",
       "      <td>0</td>\n",
       "      <td>...</td>\n",
       "      <td>0</td>\n",
       "      <td>0</td>\n",
       "      <td>0</td>\n",
       "      <td>0</td>\n",
       "      <td>0</td>\n",
       "      <td>0</td>\n",
       "      <td>0</td>\n",
       "      <td>0</td>\n",
       "      <td>34013</td>\n",
       "      <td>641068.222610</td>\n",
       "    </tr>\n",
       "    <tr>\n",
       "      <th>1</th>\n",
       "      <td>7114</td>\n",
       "      <td>3</td>\n",
       "      <td>40.787216</td>\n",
       "      <td>960</td>\n",
       "      <td>252</td>\n",
       "      <td>9600</td>\n",
       "      <td>4910</td>\n",
       "      <td>3</td>\n",
       "      <td>0</td>\n",
       "      <td>0</td>\n",
       "      <td>...</td>\n",
       "      <td>0</td>\n",
       "      <td>0</td>\n",
       "      <td>0</td>\n",
       "      <td>0</td>\n",
       "      <td>1</td>\n",
       "      <td>0</td>\n",
       "      <td>0</td>\n",
       "      <td>0</td>\n",
       "      <td>34013</td>\n",
       "      <td>593444.838546</td>\n",
       "    </tr>\n",
       "    <tr>\n",
       "      <th>2</th>\n",
       "      <td>7083</td>\n",
       "      <td>1</td>\n",
       "      <td>40.659871</td>\n",
       "      <td>15757</td>\n",
       "      <td>5785</td>\n",
       "      <td>27272</td>\n",
       "      <td>6281</td>\n",
       "      <td>3</td>\n",
       "      <td>0</td>\n",
       "      <td>0</td>\n",
       "      <td>...</td>\n",
       "      <td>0</td>\n",
       "      <td>0</td>\n",
       "      <td>0</td>\n",
       "      <td>1</td>\n",
       "      <td>0</td>\n",
       "      <td>0</td>\n",
       "      <td>0</td>\n",
       "      <td>1</td>\n",
       "      <td>34039</td>\n",
       "      <td>652391.301492</td>\n",
       "    </tr>\n",
       "  </tbody>\n",
       "</table>\n",
       "<p>3 rows × 33 columns</p>\n",
       "</div>"
      ],
      "text/plain": [
       "   Zipcode  Competitors  CountyLat  Undergraduate  Graduate  HSGrad  LessHS  \\\n",
       "0     7102            2  40.787216           1961      1058    5490    3363   \n",
       "1     7114            3  40.787216            960       252    9600    4910   \n",
       "2     7083            1  40.659871          15757      5785   27272    6281   \n",
       "\n",
       "   HouseHoldSize  Diversity_medium  Diversity_high  ...  TotHouse_medium  \\\n",
       "0              2                 0               0  ...                0   \n",
       "1              3                 0               0  ...                0   \n",
       "2              3                 0               0  ...                0   \n",
       "\n",
       "   TotHouse_high  TotHouse_veryhigh  TotHouse_upper  TotHunits_medium  \\\n",
       "0              0                  0               0                 0   \n",
       "1              0                  0               0                 1   \n",
       "2              0                  0               1                 0   \n",
       "\n",
       "   TotHunits_high  TotHunits_veryhigh  TotHunits_upper   FIPS     StoreSales  \n",
       "0               0                   0                0  34013  641068.222610  \n",
       "1               0                   0                0  34013  593444.838546  \n",
       "2               0                   0                1  34039  652391.301492  \n",
       "\n",
       "[3 rows x 33 columns]"
      ]
     },
     "execution_count": 14,
     "metadata": {},
     "output_type": "execute_result"
    }
   ],
   "source": [
    "df.head(3)"
   ]
  },
  {
   "cell_type": "markdown",
   "metadata": {},
   "source": [
    "## Features Selection"
   ]
  },
  {
   "cell_type": "code",
   "execution_count": 15,
   "metadata": {},
   "outputs": [],
   "source": [
    "\n",
    "X = df.iloc[:,0:32]  #independent columns\n",
    "y = df.iloc[:,-1]    #target column\n",
    "\n",
    "y = y.astype('int')"
   ]
  },
  {
   "cell_type": "markdown",
   "metadata": {},
   "source": [
    "### 1. Univariate Selection"
   ]
  },
  {
   "cell_type": "code",
   "execution_count": 16,
   "metadata": {},
   "outputs": [
    {
     "name": "stdout",
     "output_type": "stream",
     "text": [
      "                 Specs          Score\n",
      "5               HSGrad  174367.038119\n",
      "3        Undergraduate  149706.271953\n",
      "4             Graduate  146600.394505\n",
      "6               LessHS   72127.805722\n",
      "0              Zipcode    1604.712995\n",
      "21    MedianAg_under42      31.000000\n",
      "10  Diversity_veryhigh      28.000000\n",
      "24       TotHouse_high      28.000000\n",
      "13      MedianInc_high      28.000000\n",
      "17            Pop_high      28.000000\n"
     ]
    }
   ],
   "source": [
    "from sklearn.feature_selection import SelectKBest\n",
    "from sklearn.feature_selection import chi2\n",
    "\n",
    "#apply SelectKBest class to extract top 15 best features\n",
    "\n",
    "bestfeatures = SelectKBest(score_func=chi2, k=10)\n",
    "fit = bestfeatures.fit(X,y)\n",
    "dfscores = pd.DataFrame(fit.scores_)\n",
    "dfcolumns = pd.DataFrame(X.columns)\n",
    "\n",
    "#concat two dataframes for better visualization \n",
    "featureScores = pd.concat([dfcolumns,dfscores],axis=1)\n",
    "featureScores.columns = ['Specs','Score']  #naming the dataframe columns\n",
    "print(featureScores.nlargest(10,'Score')) "
   ]
  },
  {
   "cell_type": "markdown",
   "metadata": {},
   "source": [
    "### 2. Feature Importance"
   ]
  },
  {
   "cell_type": "code",
   "execution_count": 17,
   "metadata": {
    "scrolled": true
   },
   "outputs": [
    {
     "name": "stderr",
     "output_type": "stream",
     "text": [
      "C:\\Users\\pooja\\Anaconda3\\lib\\site-packages\\sklearn\\ensemble\\forest.py:245: FutureWarning: The default value of n_estimators will change from 10 in version 0.20 to 100 in 0.22.\n",
      "  \"10 in version 0.20 to 100 in 0.22.\", FutureWarning)\n"
     ]
    },
    {
     "name": "stdout",
     "output_type": "stream",
     "text": [
      "[0.07272727 0.05151515 0.08181818 0.03939394 0.04242424 0.06969697\n",
      " 0.07272727 0.03030303 0.02121212 0.03333333 0.02424242 0.01212121\n",
      " 0.02121212 0.01818182 0.02121212 0.01212121 0.02121212 0.01818182\n",
      " 0.01818182 0.02727273 0.03030303 0.01818182 0.03636364 0.01515152\n",
      " 0.01212121 0.01818182 0.01212121 0.01818182 0.01515152 0.01818182\n",
      " 0.02121212 0.07575758]\n"
     ]
    },
    {
     "data": {
      "image/png": "[encoded data removed]",
      "text/plain": [
       "<Figure size 432x288 with 1 Axes>"
      ]
     },
     "metadata": {
      "needs_background": "light"
     },
     "output_type": "display_data"
    }
   ],
   "source": [
    "from sklearn.ensemble import ExtraTreesClassifier\n",
    "import matplotlib.pyplot as plt\n",
    "\n",
    "model = ExtraTreesClassifier()\n",
    "model.fit(X,y)\n",
    "print(model.feature_importances_) #use inbuilt class feature_importances of tree based classifiers\n",
    "#plot graph of feature importances for better visualization\n",
    "\n",
    "feat_importances = pd.Series(model.feature_importances_, index=X.columns)\n",
    "feat_importances.nlargest(10).plot(kind='barh', color='pink')\n",
    "plt.show()"
   ]
  },
  {
   "cell_type": "code",
   "execution_count": 18,
   "metadata": {
    "scrolled": true
   },
   "outputs": [
    {
     "data": {
      "text/plain": [
       "CountyLat           0.081818\n",
       "FIPS                0.075758\n",
       "Zipcode             0.072727\n",
       "LessHS              0.072727\n",
       "HSGrad              0.069697\n",
       "Competitors         0.051515\n",
       "Graduate            0.042424\n",
       "Undergraduate       0.039394\n",
       "MedianAg_above41    0.036364\n",
       "Diversity_high      0.033333\n",
       "dtype: float64"
      ]
     },
     "execution_count": 18,
     "metadata": {},
     "output_type": "execute_result"
    }
   ],
   "source": [
    "feat_importances.nlargest(10)"
   ]
  },
  {
   "cell_type": "markdown",
   "metadata": {},
   "source": [
    "### 3.Correlation Matrix with Heatmap"
   ]
  },
  {
   "cell_type": "code",
   "execution_count": 19,
   "metadata": {},
   "outputs": [],
   "source": [
    "df1 = df[['TotHouse_upper','TotHouse_medium','Diversity_upper','TotHouse_high','Diversity_veryhigh',\n",
    "          'MedianInc_upper','MedianInc_veryhigh','HouseHoldSize','MedianAg_under42','StoreSales']]"
   ]
  },
  {
   "cell_type": "code",
   "execution_count": 20,
   "metadata": {},
   "outputs": [
    {
     "data": {
      "image/png": "[encoded data removed]",
      "text/plain": [
       "<Figure size 720x360 with 2 Axes>"
      ]
     },
     "metadata": {
      "needs_background": "light"
     },
     "output_type": "display_data"
    }
   ],
   "source": [
    "#get correlations of each features in dataset\n",
    "corrmat = df1.corr()\n",
    "top_corr_features = corrmat.index\n",
    "plt.figure(figsize=(10,5))\n",
    "#plot heat map\n",
    "g=sns.heatmap(df1[top_corr_features].corr(),annot=True,cmap=\"RdYlGn\")"
   ]
  },
  {
   "cell_type": "code",
   "execution_count": 21,
   "metadata": {},
   "outputs": [
    {
     "name": "stdout",
     "output_type": "stream",
     "text": [
      "There are  5 strongly correlated values with StoreSales:\n",
      "TotHouse_upper        0.458939\n",
      "Diversity_upper       0.275384\n",
      "MedianInc_upper       0.204748\n",
      "HouseHoldSize        -0.168707\n",
      "MedianInc_veryhigh   -0.345068\n",
      "Name: StoreSales, dtype: float64\n"
     ]
    }
   ],
   "source": [
    "dfnum_corr = df1.corr()['StoreSales'][:-1] # -1 because StoreSales last column\n",
    "golden_features_list = dfnum_corr[abs(dfnum_corr) > 0.1].sort_values(ascending=False)\n",
    "print(\"There are  {} strongly correlated values with StoreSales:\\n{}\".format(len(golden_features_list), \n",
    "                                                                             golden_features_list))"
   ]
  },
  {
   "cell_type": "code",
   "execution_count": 22,
   "metadata": {},
   "outputs": [
    {
     "data": {
      "image/png": "[encoded data removed]",
      "text/plain": [
       "<Figure size 1620x180 with 9 Axes>"
      ]
     },
     "metadata": {},
     "output_type": "display_data"
    }
   ],
   "source": [
    "# Visualizing the dependancy of StoreSales on each feature\n",
    "import seaborn as sns\n",
    "\n",
    "sns.set(style=\"ticks\", color_codes=True)\n",
    "g = sns.pairplot(df1,\n",
    "                 kind='scatter', y_vars=['StoreSales'],\n",
    "                 x_vars=['TotHouse_upper','TotHouse_medium','Diversity_upper','TotHouse_high','Diversity_veryhigh',\n",
    "                         'MedianInc_upper','MedianInc_veryhigh','HouseHoldSize','MedianAg_under42'])"
   ]
  },
  {
   "cell_type": "code",
   "execution_count": 23,
   "metadata": {},
   "outputs": [],
   "source": [
    "# Scale all input features to between 0 and 1.\n",
    "#min_max_scaler = MinMaxScaler()\n",
    "#df = pd.DataFrame(data=min_max_scaler.fit_transform(df),\n",
    "                    #columns=df.columns, index=df.index)"
   ]
  },
  {
   "cell_type": "code",
   "execution_count": 24,
   "metadata": {},
   "outputs": [],
   "source": [
    "from sklearn.model_selection import train_test_split\n",
    "\n",
    "X = df1.copy().drop(['StoreSales'], axis=1).values\n",
    "y = df1.loc[:, 'StoreSales'].values\n",
    "X_train,X_test,y_train,y_test = train_test_split(X,y,test_size=0.3,random_state=0)"
   ]
  },
  {
   "cell_type": "code",
   "execution_count": 25,
   "metadata": {},
   "outputs": [
    {
     "data": {
      "text/html": [
       "<table class=\"simpletable\">\n",
       "<caption>OLS Regression Results</caption>\n",
       "<tr>\n",
       "  <th>Dep. Variable:</th>            <td>y</td>        <th>  R-squared (uncentered):</th>      <td>   0.977</td>\n",
       "</tr>\n",
       "<tr>\n",
       "  <th>Model:</th>                   <td>OLS</td>       <th>  Adj. R-squared (uncentered):</th> <td>   0.969</td>\n",
       "</tr>\n",
       "<tr>\n",
       "  <th>Method:</th>             <td>Least Squares</td>  <th>  F-statistic:       </th>          <td>   120.5</td>\n",
       "</tr>\n",
       "<tr>\n",
       "  <th>Date:</th>             <td>Mon, 11 Nov 2019</td> <th>  Prob (F-statistic):</th>          <td>2.52e-18</td>\n",
       "</tr>\n",
       "<tr>\n",
       "  <th>Time:</th>                 <td>19:12:47</td>     <th>  Log-Likelihood:    </th>          <td> -435.89</td>\n",
       "</tr>\n",
       "<tr>\n",
       "  <th>No. Observations:</th>      <td>    34</td>      <th>  AIC:               </th>          <td>   889.8</td>\n",
       "</tr>\n",
       "<tr>\n",
       "  <th>Df Residuals:</th>          <td>    25</td>      <th>  BIC:               </th>          <td>   903.5</td>\n",
       "</tr>\n",
       "<tr>\n",
       "  <th>Df Model:</th>              <td>     9</td>      <th>                     </th>              <td> </td>   \n",
       "</tr>\n",
       "<tr>\n",
       "  <th>Covariance Type:</th>      <td>nonrobust</td>    <th>                     </th>              <td> </td>   \n",
       "</tr>\n",
       "</table>\n",
       "<table class=\"simpletable\">\n",
       "<tr>\n",
       "   <td></td>     <th>coef</th>     <th>std err</th>      <th>t</th>      <th>P>|t|</th>  <th>[0.025</th>    <th>0.975]</th>  \n",
       "</tr>\n",
       "<tr>\n",
       "  <th>x1</th> <td> 9.418e+04</td> <td> 4.93e+04</td> <td>    1.910</td> <td> 0.068</td> <td>-7353.437</td> <td> 1.96e+05</td>\n",
       "</tr>\n",
       "<tr>\n",
       "  <th>x2</th> <td> 1.078e+05</td> <td> 4.87e+04</td> <td>    2.214</td> <td> 0.036</td> <td> 7526.059</td> <td> 2.08e+05</td>\n",
       "</tr>\n",
       "<tr>\n",
       "  <th>x3</th> <td> 1.054e+05</td> <td> 5.43e+04</td> <td>    1.943</td> <td> 0.063</td> <td>-6329.807</td> <td> 2.17e+05</td>\n",
       "</tr>\n",
       "<tr>\n",
       "  <th>x4</th> <td> 1.155e+05</td> <td> 5.84e+04</td> <td>    1.976</td> <td> 0.059</td> <td>-4863.990</td> <td> 2.36e+05</td>\n",
       "</tr>\n",
       "<tr>\n",
       "  <th>x5</th> <td> 1.613e+04</td> <td> 5.42e+04</td> <td>    0.297</td> <td> 0.769</td> <td>-9.56e+04</td> <td> 1.28e+05</td>\n",
       "</tr>\n",
       "<tr>\n",
       "  <th>x6</th> <td> 9.709e+04</td> <td> 5.25e+04</td> <td>    1.850</td> <td> 0.076</td> <td> -1.1e+04</td> <td> 2.05e+05</td>\n",
       "</tr>\n",
       "<tr>\n",
       "  <th>x7</th> <td>-6.629e+04</td> <td>  5.2e+04</td> <td>   -1.275</td> <td> 0.214</td> <td>-1.73e+05</td> <td> 4.08e+04</td>\n",
       "</tr>\n",
       "<tr>\n",
       "  <th>x8</th> <td> 1.773e+05</td> <td> 1.53e+04</td> <td>   11.618</td> <td> 0.000</td> <td> 1.46e+05</td> <td> 2.09e+05</td>\n",
       "</tr>\n",
       "<tr>\n",
       "  <th>x9</th> <td>-7.008e+04</td> <td>  7.8e+04</td> <td>   -0.899</td> <td> 0.377</td> <td>-2.31e+05</td> <td> 9.05e+04</td>\n",
       "</tr>\n",
       "</table>\n",
       "<table class=\"simpletable\">\n",
       "<tr>\n",
       "  <th>Omnibus:</th>       <td> 2.403</td> <th>  Durbin-Watson:     </th> <td>   1.782</td>\n",
       "</tr>\n",
       "<tr>\n",
       "  <th>Prob(Omnibus):</th> <td> 0.301</td> <th>  Jarque-Bera (JB):  </th> <td>   2.005</td>\n",
       "</tr>\n",
       "<tr>\n",
       "  <th>Skew:</th>          <td> 0.468</td> <th>  Prob(JB):          </th> <td>   0.367</td>\n",
       "</tr>\n",
       "<tr>\n",
       "  <th>Kurtosis:</th>      <td> 2.266</td> <th>  Cond. No.          </th> <td>    13.8</td>\n",
       "</tr>\n",
       "</table><br/><br/>Warnings:<br/>[1] Standard Errors assume that the covariance matrix of the errors is correctly specified."
      ],
      "text/plain": [
       "<class 'statsmodels.iolib.summary.Summary'>\n",
       "\"\"\"\n",
       "                                 OLS Regression Results                                \n",
       "=======================================================================================\n",
       "Dep. Variable:                      y   R-squared (uncentered):                   0.977\n",
       "Model:                            OLS   Adj. R-squared (uncentered):              0.969\n",
       "Method:                 Least Squares   F-statistic:                              120.5\n",
       "Date:                Mon, 11 Nov 2019   Prob (F-statistic):                    2.52e-18\n",
       "Time:                        19:12:47   Log-Likelihood:                         -435.89\n",
       "No. Observations:                  34   AIC:                                      889.8\n",
       "Df Residuals:                      25   BIC:                                      903.5\n",
       "Df Model:                           9                                                  \n",
       "Covariance Type:            nonrobust                                                  \n",
       "==============================================================================\n",
       "                 coef    std err          t      P>|t|      [0.025      0.975]\n",
       "------------------------------------------------------------------------------\n",
       "x1          9.418e+04   4.93e+04      1.910      0.068   -7353.437    1.96e+05\n",
       "x2          1.078e+05   4.87e+04      2.214      0.036    7526.059    2.08e+05\n",
       "x3          1.054e+05   5.43e+04      1.943      0.063   -6329.807    2.17e+05\n",
       "x4          1.155e+05   5.84e+04      1.976      0.059   -4863.990    2.36e+05\n",
       "x5          1.613e+04   5.42e+04      0.297      0.769   -9.56e+04    1.28e+05\n",
       "x6          9.709e+04   5.25e+04      1.850      0.076    -1.1e+04    2.05e+05\n",
       "x7         -6.629e+04    5.2e+04     -1.275      0.214   -1.73e+05    4.08e+04\n",
       "x8          1.773e+05   1.53e+04     11.618      0.000    1.46e+05    2.09e+05\n",
       "x9         -7.008e+04    7.8e+04     -0.899      0.377   -2.31e+05    9.05e+04\n",
       "==============================================================================\n",
       "Omnibus:                        2.403   Durbin-Watson:                   1.782\n",
       "Prob(Omnibus):                  0.301   Jarque-Bera (JB):                2.005\n",
       "Skew:                           0.468   Prob(JB):                        0.367\n",
       "Kurtosis:                       2.266   Cond. No.                         13.8\n",
       "==============================================================================\n",
       "\n",
       "Warnings:\n",
       "[1] Standard Errors assume that the covariance matrix of the errors is correctly specified.\n",
       "\"\"\""
      ]
     },
     "execution_count": 25,
     "metadata": {},
     "output_type": "execute_result"
    }
   ],
   "source": [
    "# Note the difference in argument order\n",
    "model = sm.OLS(y, X).fit()\n",
    "predictions = model.predict(X) # make the predictions by the model\n",
    "\n",
    "# Print out the statistics\n",
    "model.summary()"
   ]
  },
  {
   "cell_type": "code",
   "execution_count": 26,
   "metadata": {},
   "outputs": [
    {
     "data": {
      "text/html": [
       "<div>\n",
       "<style scoped>\n",
       "    .dataframe tbody tr th:only-of-type {\n",
       "        vertical-align: middle;\n",
       "    }\n",
       "\n",
       "    .dataframe tbody tr th {\n",
       "        vertical-align: top;\n",
       "    }\n",
       "\n",
       "    .dataframe thead th {\n",
       "        text-align: right;\n",
       "    }\n",
       "</style>\n",
       "<table border=\"1\" class=\"dataframe\">\n",
       "  <thead>\n",
       "    <tr style=\"text-align: right;\">\n",
       "      <th></th>\n",
       "      <th>Actual</th>\n",
       "      <th>Predicted</th>\n",
       "    </tr>\n",
       "  </thead>\n",
       "  <tbody>\n",
       "    <tr>\n",
       "      <th>0</th>\n",
       "      <td>641068.222610</td>\n",
       "      <td>460004.971647</td>\n",
       "    </tr>\n",
       "    <tr>\n",
       "      <th>1</th>\n",
       "      <td>593444.838546</td>\n",
       "      <td>637303.784042</td>\n",
       "    </tr>\n",
       "    <tr>\n",
       "      <th>2</th>\n",
       "      <td>652391.301492</td>\n",
       "      <td>731486.235016</td>\n",
       "    </tr>\n",
       "    <tr>\n",
       "      <th>3</th>\n",
       "      <td>718041.900365</td>\n",
       "      <td>642209.273926</td>\n",
       "    </tr>\n",
       "    <tr>\n",
       "      <th>4</th>\n",
       "      <td>586253.158030</td>\n",
       "      <td>559461.403979</td>\n",
       "    </tr>\n",
       "    <tr>\n",
       "      <th>5</th>\n",
       "      <td>586254.389363</td>\n",
       "      <td>558905.171678</td>\n",
       "    </tr>\n",
       "    <tr>\n",
       "      <th>6</th>\n",
       "      <td>722255.622297</td>\n",
       "      <td>545866.323716</td>\n",
       "    </tr>\n",
       "    <tr>\n",
       "      <th>7</th>\n",
       "      <td>661372.265821</td>\n",
       "      <td>674396.844126</td>\n",
       "    </tr>\n",
       "    <tr>\n",
       "      <th>8</th>\n",
       "      <td>568604.082189</td>\n",
       "      <td>531896.437187</td>\n",
       "    </tr>\n",
       "    <tr>\n",
       "      <th>9</th>\n",
       "      <td>644506.664403</td>\n",
       "      <td>559786.424261</td>\n",
       "    </tr>\n",
       "    <tr>\n",
       "      <th>10</th>\n",
       "      <td>569058.334173</td>\n",
       "      <td>628982.685139</td>\n",
       "    </tr>\n",
       "    <tr>\n",
       "      <th>11</th>\n",
       "      <td>568884.929616</td>\n",
       "      <td>655804.354188</td>\n",
       "    </tr>\n",
       "    <tr>\n",
       "      <th>12</th>\n",
       "      <td>621961.831502</td>\n",
       "      <td>581095.645736</td>\n",
       "    </tr>\n",
       "    <tr>\n",
       "      <th>13</th>\n",
       "      <td>460318.642785</td>\n",
       "      <td>465603.973288</td>\n",
       "    </tr>\n",
       "    <tr>\n",
       "      <th>14</th>\n",
       "      <td>474445.823696</td>\n",
       "      <td>481734.359054</td>\n",
       "    </tr>\n",
       "    <tr>\n",
       "      <th>15</th>\n",
       "      <td>561643.096441</td>\n",
       "      <td>573381.504524</td>\n",
       "    </tr>\n",
       "    <tr>\n",
       "      <th>16</th>\n",
       "      <td>527852.327109</td>\n",
       "      <td>548026.822953</td>\n",
       "    </tr>\n",
       "    <tr>\n",
       "      <th>17</th>\n",
       "      <td>627383.211079</td>\n",
       "      <td>731486.235016</td>\n",
       "    </tr>\n",
       "    <tr>\n",
       "      <th>18</th>\n",
       "      <td>535712.855470</td>\n",
       "      <td>573381.504524</td>\n",
       "    </tr>\n",
       "    <tr>\n",
       "      <th>19</th>\n",
       "      <td>497891.883534</td>\n",
       "      <td>626078.888160</td>\n",
       "    </tr>\n",
       "    <tr>\n",
       "      <th>20</th>\n",
       "      <td>713738.318803</td>\n",
       "      <td>739295.521878</td>\n",
       "    </tr>\n",
       "    <tr>\n",
       "      <th>21</th>\n",
       "      <td>586881.438598</td>\n",
       "      <td>460004.971647</td>\n",
       "    </tr>\n",
       "    <tr>\n",
       "      <th>22</th>\n",
       "      <td>608879.276486</td>\n",
       "      <td>470089.297239</td>\n",
       "    </tr>\n",
       "    <tr>\n",
       "      <th>23</th>\n",
       "      <td>496958.547168</td>\n",
       "      <td>628982.685139</td>\n",
       "    </tr>\n",
       "    <tr>\n",
       "      <th>24</th>\n",
       "      <td>562985.956795</td>\n",
       "      <td>577310.596174</td>\n",
       "    </tr>\n",
       "    <tr>\n",
       "      <th>25</th>\n",
       "      <td>612133.855362</td>\n",
       "      <td>548026.822953</td>\n",
       "    </tr>\n",
       "    <tr>\n",
       "      <th>26</th>\n",
       "      <td>517490.142827</td>\n",
       "      <td>581095.645736</td>\n",
       "    </tr>\n",
       "    <tr>\n",
       "      <th>27</th>\n",
       "      <td>631992.012510</td>\n",
       "      <td>462375.156026</td>\n",
       "    </tr>\n",
       "    <tr>\n",
       "      <th>28</th>\n",
       "      <td>558766.759390</td>\n",
       "      <td>637303.784042</td>\n",
       "    </tr>\n",
       "    <tr>\n",
       "      <th>29</th>\n",
       "      <td>581937.629900</td>\n",
       "      <td>639673.968422</td>\n",
       "    </tr>\n",
       "    <tr>\n",
       "      <th>30</th>\n",
       "      <td>558686.665217</td>\n",
       "      <td>647388.109635</td>\n",
       "    </tr>\n",
       "    <tr>\n",
       "      <th>31</th>\n",
       "      <td>742735.524972</td>\n",
       "      <td>745081.315278</td>\n",
       "    </tr>\n",
       "    <tr>\n",
       "      <th>32</th>\n",
       "      <td>602802.369279</td>\n",
       "      <td>531896.437187</td>\n",
       "    </tr>\n",
       "    <tr>\n",
       "      <th>33</th>\n",
       "      <td>524486.341462</td>\n",
       "      <td>354597.624791</td>\n",
       "    </tr>\n",
       "  </tbody>\n",
       "</table>\n",
       "</div>"
      ],
      "text/plain": [
       "           Actual      Predicted\n",
       "0   641068.222610  460004.971647\n",
       "1   593444.838546  637303.784042\n",
       "2   652391.301492  731486.235016\n",
       "3   718041.900365  642209.273926\n",
       "4   586253.158030  559461.403979\n",
       "5   586254.389363  558905.171678\n",
       "6   722255.622297  545866.323716\n",
       "7   661372.265821  674396.844126\n",
       "8   568604.082189  531896.437187\n",
       "9   644506.664403  559786.424261\n",
       "10  569058.334173  628982.685139\n",
       "11  568884.929616  655804.354188\n",
       "12  621961.831502  581095.645736\n",
       "13  460318.642785  465603.973288\n",
       "14  474445.823696  481734.359054\n",
       "15  561643.096441  573381.504524\n",
       "16  527852.327109  548026.822953\n",
       "17  627383.211079  731486.235016\n",
       "18  535712.855470  573381.504524\n",
       "19  497891.883534  626078.888160\n",
       "20  713738.318803  739295.521878\n",
       "21  586881.438598  460004.971647\n",
       "22  608879.276486  470089.297239\n",
       "23  496958.547168  628982.685139\n",
       "24  562985.956795  577310.596174\n",
       "25  612133.855362  548026.822953\n",
       "26  517490.142827  581095.645736\n",
       "27  631992.012510  462375.156026\n",
       "28  558766.759390  637303.784042\n",
       "29  581937.629900  639673.968422\n",
       "30  558686.665217  647388.109635\n",
       "31  742735.524972  745081.315278\n",
       "32  602802.369279  531896.437187\n",
       "33  524486.341462  354597.624791"
      ]
     },
     "execution_count": 26,
     "metadata": {},
     "output_type": "execute_result"
    }
   ],
   "source": [
    "# Printing actual vs predicted values\n",
    "pred = pd.DataFrame({'Actual': y.flatten(), 'Predicted': predictions.flatten()})\n",
    "pred"
   ]
  },
  {
   "cell_type": "code",
   "execution_count": 27,
   "metadata": {},
   "outputs": [],
   "source": [
    "pred.to_csv('Actual_vs_pred_storesales.csv')"
   ]
  },
  {
   "cell_type": "code",
   "execution_count": 28,
   "metadata": {
    "scrolled": true
   },
   "outputs": [
    {
     "data": {
      "image/png": "[encoded data removed]",
      "text/plain": [
       "<Figure size 720x360 with 1 Axes>"
      ]
     },
     "metadata": {},
     "output_type": "display_data"
    }
   ],
   "source": [
    "# Plotting the actual vs predicted values for Linear OLS model\n",
    "dflinear = pred\n",
    "dflinear.plot(kind='bar',figsize=(10,5))\n",
    "plt.grid(which='major', linestyle='-', linewidth='0.5', color='green')\n",
    "plt.grid(which='minor', linestyle=':', linewidth='0.5', color='black')\n",
    "plt.show()"
   ]
  },
  {
   "cell_type": "code",
   "execution_count": 30,
   "metadata": {},
   "outputs": [
    {
     "data": {
      "text/plain": [
       "<seaborn.axisgrid.PairGrid at 0x1eb7b5fdf98>"
      ]
     },
     "execution_count": 30,
     "metadata": {},
     "output_type": "execute_result"
    },
    {
     "data": {
      "image/png": "[encoded data removed]",
      "text/plain": [
       "<Figure size 1800x360 with 10 Axes>"
      ]
     },
     "metadata": {},
     "output_type": "display_data"
    }
   ],
   "source": [
    "sns.pairplot(df1, x_vars=['TotHouse_upper','TotHouse_medium','Diversity_upper','TotHouse_high',\n",
    "                          'Diversity_veryhigh','MedianInc_upper','MedianInc_veryhigh','HouseHoldSize',\n",
    "                          'MedianAg_under42','StoreSales'], y_vars='StoreSales', size=5, aspect=0.5, kind='reg')"
   ]
  },
  {
   "cell_type": "code",
   "execution_count": 31,
   "metadata": {},
   "outputs": [],
   "source": [
    "# Linear Model"
   ]
  },
  {
   "cell_type": "code",
   "execution_count": 32,
   "metadata": {},
   "outputs": [],
   "source": [
    "from sklearn import linear_model\n",
    "\n",
    "lm = linear_model.LinearRegression()\n",
    "model_l = lm.fit(X_train,y_train)\n",
    "\n",
    "predictions_l = lm.predict(X_test)\n"
   ]
  },
  {
   "cell_type": "code",
   "execution_count": 33,
   "metadata": {},
   "outputs": [
    {
     "data": {
      "text/plain": [
       "array([603273.35782996, 681417.1590636 , 557056.33679101, 682574.4692398 ,\n",
       "       682574.4692398 , 572394.48952857, 623884.2653024 , 557056.33679101,\n",
       "       545568.02064929, 560860.56439828, 598926.6640265 ])"
      ]
     },
     "execution_count": 33,
     "metadata": {},
     "output_type": "execute_result"
    }
   ],
   "source": [
    "predictions_l"
   ]
  },
  {
   "cell_type": "code",
   "execution_count": 34,
   "metadata": {},
   "outputs": [
    {
     "data": {
      "text/plain": [
       "0.5005790582990972"
      ]
     },
     "execution_count": 34,
     "metadata": {},
     "output_type": "execute_result"
    }
   ],
   "source": [
    "# Getting Rsquare Score\n",
    "lm.score(X_train,y_train)"
   ]
  },
  {
   "cell_type": "code",
   "execution_count": 35,
   "metadata": {},
   "outputs": [
    {
     "data": {
      "text/plain": [
       "array([104907.22497635,  46217.02103895,  51552.8209104 ,  72812.24067345,\n",
       "        30941.91343796,  19453.59729624, -26532.17449792, -34746.14104523,\n",
       "        15912.55532662])"
      ]
     },
     "execution_count": 35,
     "metadata": {},
     "output_type": "execute_result"
    }
   ],
   "source": [
    "# Getting predicted coefficients\n",
    "lm.coef_"
   ]
  },
  {
   "cell_type": "code",
   "execution_count": 36,
   "metadata": {},
   "outputs": [
    {
     "data": {
      "text/plain": [
       "630352.846488743"
      ]
     },
     "execution_count": 36,
     "metadata": {},
     "output_type": "execute_result"
    }
   ],
   "source": [
    "lm.intercept_"
   ]
  },
  {
   "cell_type": "code",
   "execution_count": 37,
   "metadata": {},
   "outputs": [
    {
     "data": {
      "text/plain": [
       "0.47314312275913717"
      ]
     },
     "execution_count": 37,
     "metadata": {},
     "output_type": "execute_result"
    }
   ],
   "source": [
    "from sklearn.metrics import r2_score\n",
    "r2_score(y_test, predictions_l)"
   ]
  },
  {
   "cell_type": "code",
   "execution_count": 38,
   "metadata": {},
   "outputs": [
    {
     "data": {
      "text/html": [
       "<div>\n",
       "<style scoped>\n",
       "    .dataframe tbody tr th:only-of-type {\n",
       "        vertical-align: middle;\n",
       "    }\n",
       "\n",
       "    .dataframe tbody tr th {\n",
       "        vertical-align: top;\n",
       "    }\n",
       "\n",
       "    .dataframe thead th {\n",
       "        text-align: right;\n",
       "    }\n",
       "</style>\n",
       "<table border=\"1\" class=\"dataframe\">\n",
       "  <thead>\n",
       "    <tr style=\"text-align: right;\">\n",
       "      <th></th>\n",
       "      <th>Actual</th>\n",
       "      <th>Predicted</th>\n",
       "    </tr>\n",
       "  </thead>\n",
       "  <tbody>\n",
       "    <tr>\n",
       "      <th>0</th>\n",
       "      <td>568884.929616</td>\n",
       "      <td>603273.357830</td>\n",
       "    </tr>\n",
       "    <tr>\n",
       "      <th>1</th>\n",
       "      <td>713738.318803</td>\n",
       "      <td>681417.159064</td>\n",
       "    </tr>\n",
       "    <tr>\n",
       "      <th>2</th>\n",
       "      <td>612133.855362</td>\n",
       "      <td>557056.336791</td>\n",
       "    </tr>\n",
       "    <tr>\n",
       "      <th>3</th>\n",
       "      <td>627383.211079</td>\n",
       "      <td>682574.469240</td>\n",
       "    </tr>\n",
       "    <tr>\n",
       "      <th>4</th>\n",
       "      <td>652391.301492</td>\n",
       "      <td>682574.469240</td>\n",
       "    </tr>\n",
       "    <tr>\n",
       "      <th>5</th>\n",
       "      <td>517490.142827</td>\n",
       "      <td>572394.489529</td>\n",
       "    </tr>\n",
       "    <tr>\n",
       "      <th>6</th>\n",
       "      <td>742735.524972</td>\n",
       "      <td>623884.265302</td>\n",
       "    </tr>\n",
       "    <tr>\n",
       "      <th>7</th>\n",
       "      <td>527852.327109</td>\n",
       "      <td>557056.336791</td>\n",
       "    </tr>\n",
       "    <tr>\n",
       "      <th>8</th>\n",
       "      <td>569058.334173</td>\n",
       "      <td>545568.020649</td>\n",
       "    </tr>\n",
       "    <tr>\n",
       "      <th>9</th>\n",
       "      <td>524486.341462</td>\n",
       "      <td>560860.564398</td>\n",
       "    </tr>\n",
       "    <tr>\n",
       "      <th>10</th>\n",
       "      <td>558686.665217</td>\n",
       "      <td>598926.664026</td>\n",
       "    </tr>\n",
       "  </tbody>\n",
       "</table>\n",
       "</div>"
      ],
      "text/plain": [
       "           Actual      Predicted\n",
       "0   568884.929616  603273.357830\n",
       "1   713738.318803  681417.159064\n",
       "2   612133.855362  557056.336791\n",
       "3   627383.211079  682574.469240\n",
       "4   652391.301492  682574.469240\n",
       "5   517490.142827  572394.489529\n",
       "6   742735.524972  623884.265302\n",
       "7   527852.327109  557056.336791\n",
       "8   569058.334173  545568.020649\n",
       "9   524486.341462  560860.564398\n",
       "10  558686.665217  598926.664026"
      ]
     },
     "execution_count": 38,
     "metadata": {},
     "output_type": "execute_result"
    }
   ],
   "source": [
    "# Printing actual vs predicted values\n",
    "pred_l = pd.DataFrame({'Actual': y_test.flatten(), 'Predicted': predictions_l.flatten()})\n",
    "pred_l"
   ]
  },
  {
   "cell_type": "code",
   "execution_count": 39,
   "metadata": {},
   "outputs": [
    {
     "data": {
      "image/png": "[encoded data removed]",
      "text/plain": [
       "<Figure size 360x216 with 1 Axes>"
      ]
     },
     "metadata": {},
     "output_type": "display_data"
    }
   ],
   "source": [
    "# Plotting the actual vs predicted values for Linear regression model\n",
    "dflinear = pred_l\n",
    "dflinear.plot(kind='bar',figsize=(5,3))\n",
    "plt.grid(which='major', linestyle='-', linewidth='0.5', color='green')\n",
    "plt.grid(which='minor', linestyle=':', linewidth='0.5', color='black')\n",
    "plt.show()"
   ]
  },
  {
   "cell_type": "code",
   "execution_count": 40,
   "metadata": {
    "scrolled": true
   },
   "outputs": [
    {
     "name": "stderr",
     "output_type": "stream",
     "text": [
      "C:\\Users\\pooja\\Anaconda3\\lib\\site-packages\\sklearn\\model_selection\\_search.py:813: DeprecationWarning: The default of the `iid` parameter will change from True to False in version 0.22 and will be removed in 0.24. This will change numeric results when test-set sizes are unequal.\n",
      "  DeprecationWarning)\n"
     ]
    },
    {
     "data": {
      "text/plain": [
       "GridSearchCV(cv=5, error_score='raise-deprecating',\n",
       "             estimator=Ridge(alpha=1.0, copy_X=True, fit_intercept=True,\n",
       "                             max_iter=None, normalize=False, random_state=None,\n",
       "                             solver='auto', tol=0.001),\n",
       "             iid='warn', n_jobs=None,\n",
       "             param_grid={'alpha': [1e-15, 1e-10, 1e-08, 0.0001, 0.001, 0.01, 1,\n",
       "                                   5, 10, 20]},\n",
       "             pre_dispatch='2*n_jobs', refit=True, return_train_score=False,\n",
       "             scoring='neg_mean_squared_error', verbose=0)"
      ]
     },
     "execution_count": 40,
     "metadata": {},
     "output_type": "execute_result"
    }
   ],
   "source": [
    "from sklearn.model_selection import GridSearchCV\n",
    "from sklearn.linear_model import Ridge\n",
    "\n",
    "ridge = Ridge()\n",
    "ridge.fit(X_train,y_train)\n",
    "\n",
    "parameters = {'alpha': [1e-15, 1e-10, 1e-8, 1e-4, 1e-3, 1e-2, 1,5,10, 20]}\n",
    "\n",
    "ridge_regressor = GridSearchCV(ridge, parameters, scoring='neg_mean_squared_error', cv=5)\n",
    "\n",
    "ridge_regressor.fit(X_train, y_train)\n",
    "\n"
   ]
  },
  {
   "cell_type": "code",
   "execution_count": 41,
   "metadata": {},
   "outputs": [
    {
     "name": "stdout",
     "output_type": "stream",
     "text": [
      "{'alpha': 5}\n",
      "-4641355764.901924\n"
     ]
    },
    {
     "data": {
      "text/plain": [
       "array([583998.24905425, 644773.07593491, 569008.75280284, 637565.07467463,\n",
       "       637565.07467463, 567197.26031818, 587076.14712161, 569008.75280284,\n",
       "       564988.62270595, 591918.08746408, 592511.49509236])"
      ]
     },
     "execution_count": 41,
     "metadata": {},
     "output_type": "execute_result"
    }
   ],
   "source": [
    "print(ridge_regressor.best_params_)\n",
    "print(ridge_regressor.best_score_)\n",
    "\n",
    "# predicting the test dataset\n",
    "\n",
    "ridgey_pred = ridge.predict(X_test)\n",
    "\n",
    "ridgey_pred"
   ]
  },
  {
   "cell_type": "code",
   "execution_count": 42,
   "metadata": {
    "scrolled": true
   },
   "outputs": [
    {
     "data": {
      "text/plain": [
       "array([ 65478.42380442,  14989.49625141,  17383.9274919 ,  37808.77171406,\n",
       "        14306.02942453,  10285.89932765, -25314.23477418, -37215.36408578,\n",
       "        12578.77494001])"
      ]
     },
     "execution_count": 42,
     "metadata": {},
     "output_type": "execute_result"
    }
   ],
   "source": [
    "ridge.coef_"
   ]
  },
  {
   "cell_type": "code",
   "execution_count": 43,
   "metadata": {},
   "outputs": [
    {
     "name": "stdout",
     "output_type": "stream",
     "text": [
      "666348.8156356317\n"
     ]
    }
   ],
   "source": [
    "# intercepts\n",
    "print(ridge.intercept_)\n"
   ]
  },
  {
   "cell_type": "code",
   "execution_count": 44,
   "metadata": {},
   "outputs": [
    {
     "data": {
      "text/plain": [
       "0.29185960129551036"
      ]
     },
     "execution_count": 44,
     "metadata": {},
     "output_type": "execute_result"
    }
   ],
   "source": [
    "# Model Evaluation\n",
    "\n",
    "# calculating the  R squared error value\n",
    "from sklearn.metrics import r2_score\n",
    "r2_score(y_test,ridgey_pred)"
   ]
  },
  {
   "cell_type": "code",
   "execution_count": 45,
   "metadata": {},
   "outputs": [
    {
     "data": {
      "text/html": [
       "<div>\n",
       "<style scoped>\n",
       "    .dataframe tbody tr th:only-of-type {\n",
       "        vertical-align: middle;\n",
       "    }\n",
       "\n",
       "    .dataframe tbody tr th {\n",
       "        vertical-align: top;\n",
       "    }\n",
       "\n",
       "    .dataframe thead th {\n",
       "        text-align: right;\n",
       "    }\n",
       "</style>\n",
       "<table border=\"1\" class=\"dataframe\">\n",
       "  <thead>\n",
       "    <tr style=\"text-align: right;\">\n",
       "      <th></th>\n",
       "      <th>Actual</th>\n",
       "      <th>Predicted</th>\n",
       "    </tr>\n",
       "  </thead>\n",
       "  <tbody>\n",
       "    <tr>\n",
       "      <th>0</th>\n",
       "      <td>568884.929616</td>\n",
       "      <td>583998.249054</td>\n",
       "    </tr>\n",
       "    <tr>\n",
       "      <th>1</th>\n",
       "      <td>713738.318803</td>\n",
       "      <td>644773.075935</td>\n",
       "    </tr>\n",
       "    <tr>\n",
       "      <th>2</th>\n",
       "      <td>612133.855362</td>\n",
       "      <td>569008.752803</td>\n",
       "    </tr>\n",
       "    <tr>\n",
       "      <th>3</th>\n",
       "      <td>627383.211079</td>\n",
       "      <td>637565.074675</td>\n",
       "    </tr>\n",
       "    <tr>\n",
       "      <th>4</th>\n",
       "      <td>652391.301492</td>\n",
       "      <td>637565.074675</td>\n",
       "    </tr>\n",
       "    <tr>\n",
       "      <th>5</th>\n",
       "      <td>517490.142827</td>\n",
       "      <td>567197.260318</td>\n",
       "    </tr>\n",
       "    <tr>\n",
       "      <th>6</th>\n",
       "      <td>742735.524972</td>\n",
       "      <td>587076.147122</td>\n",
       "    </tr>\n",
       "    <tr>\n",
       "      <th>7</th>\n",
       "      <td>527852.327109</td>\n",
       "      <td>569008.752803</td>\n",
       "    </tr>\n",
       "    <tr>\n",
       "      <th>8</th>\n",
       "      <td>569058.334173</td>\n",
       "      <td>564988.622706</td>\n",
       "    </tr>\n",
       "    <tr>\n",
       "      <th>9</th>\n",
       "      <td>524486.341462</td>\n",
       "      <td>591918.087464</td>\n",
       "    </tr>\n",
       "    <tr>\n",
       "      <th>10</th>\n",
       "      <td>558686.665217</td>\n",
       "      <td>592511.495092</td>\n",
       "    </tr>\n",
       "  </tbody>\n",
       "</table>\n",
       "</div>"
      ],
      "text/plain": [
       "           Actual      Predicted\n",
       "0   568884.929616  583998.249054\n",
       "1   713738.318803  644773.075935\n",
       "2   612133.855362  569008.752803\n",
       "3   627383.211079  637565.074675\n",
       "4   652391.301492  637565.074675\n",
       "5   517490.142827  567197.260318\n",
       "6   742735.524972  587076.147122\n",
       "7   527852.327109  569008.752803\n",
       "8   569058.334173  564988.622706\n",
       "9   524486.341462  591918.087464\n",
       "10  558686.665217  592511.495092"
      ]
     },
     "execution_count": 45,
     "metadata": {},
     "output_type": "execute_result"
    }
   ],
   "source": [
    "# Printing actual vs predicted values\n",
    "predict = pd.DataFrame({'Actual': y_test.flatten(), 'Predicted': ridgey_pred.flatten()})\n",
    "predict"
   ]
  },
  {
   "cell_type": "code",
   "execution_count": 46,
   "metadata": {},
   "outputs": [
    {
     "data": {
      "image/png": "[encoded data removed]",
      "text/plain": [
       "<Figure size 360x216 with 1 Axes>"
      ]
     },
     "metadata": {},
     "output_type": "display_data"
    }
   ],
   "source": [
    "# Plotting the actual vs predicted values ridge model\n",
    "dfridge = predict\n",
    "dfridge.plot(kind='bar',figsize=(5,3))\n",
    "plt.grid(which='major', linestyle='-', linewidth='0.5', color='green')\n",
    "plt.grid(which='minor', linestyle=':', linewidth='0.5', color='black')\n",
    "plt.show()"
   ]
  },
  {
   "cell_type": "code",
   "execution_count": 47,
   "metadata": {
    "scrolled": true
   },
   "outputs": [
    {
     "name": "stdout",
     "output_type": "stream",
     "text": [
      "{'alpha': 20}\n",
      "-9503787337.52379\n"
     ]
    },
    {
     "name": "stderr",
     "output_type": "stream",
     "text": [
      "C:\\Users\\pooja\\Anaconda3\\lib\\site-packages\\sklearn\\linear_model\\coordinate_descent.py:475: ConvergenceWarning: Objective did not converge. You might want to increase the number of iterations. Duality gap: 20473247120.833256, tolerance: 7976336.783324958\n",
      "  positive)\n",
      "C:\\Users\\pooja\\Anaconda3\\lib\\site-packages\\sklearn\\linear_model\\coordinate_descent.py:475: ConvergenceWarning: Objective did not converge. You might want to increase the number of iterations. Duality gap: 17462993667.450584, tolerance: 8731494.355502632\n",
      "  positive)\n",
      "C:\\Users\\pooja\\Anaconda3\\lib\\site-packages\\sklearn\\linear_model\\coordinate_descent.py:475: ConvergenceWarning: Objective did not converge. You might want to increase the number of iterations. Duality gap: 17753837023.84814, tolerance: 7073363.737437487\n",
      "  positive)\n",
      "C:\\Users\\pooja\\Anaconda3\\lib\\site-packages\\sklearn\\linear_model\\coordinate_descent.py:475: ConvergenceWarning: Objective did not converge. You might want to increase the number of iterations. Duality gap: 8831048656.810505, tolerance: 8416364.14295959\n",
      "  positive)\n",
      "C:\\Users\\pooja\\Anaconda3\\lib\\site-packages\\sklearn\\linear_model\\coordinate_descent.py:475: ConvergenceWarning: Objective did not converge. You might want to increase the number of iterations. Duality gap: 14850093094.79531, tolerance: 7557111.803711289\n",
      "  positive)\n",
      "C:\\Users\\pooja\\Anaconda3\\lib\\site-packages\\sklearn\\model_selection\\_search.py:813: DeprecationWarning: The default of the `iid` parameter will change from True to False in version 0.22 and will be removed in 0.24. This will change numeric results when test-set sizes are unequal.\n",
      "  DeprecationWarning)\n"
     ]
    },
    {
     "data": {
      "text/plain": [
       "array([603245.32578844, 681383.21075428, 557055.04150953, 682547.14092322,\n",
       "       682547.14092322, 572395.42311312, 623850.79786439, 557055.04150953,\n",
       "       545579.87060674, 560887.08471582, 598927.51445035])"
      ]
     },
     "execution_count": 47,
     "metadata": {},
     "output_type": "execute_result"
    }
   ],
   "source": [
    "from sklearn.linear_model import Lasso\n",
    "\n",
    "lasso = Lasso()\n",
    "lasso.fit(X_train,y_train)\n",
    "\n",
    "parameters = {'alpha': [1e-15, 1e-10, 1e-8, 1e-4, 1e-3, 1e-2, 1, 5, 10, 20]}\n",
    "\n",
    "lasso_regressor = GridSearchCV(lasso, parameters, scoring='neg_mean_squared_error', cv=5)\n",
    "\n",
    "lasso_regressor.fit(X_train, y_train)\n",
    "\n",
    "print(lasso_regressor.best_params_)\n",
    "print(lasso_regressor.best_score_)\n",
    "\n",
    "# predicting the test dataset\n",
    "\n",
    "lassoy_pred = lasso.predict(X_test)\n",
    "\n",
    "lassoy_pred\n"
   ]
  },
  {
   "cell_type": "code",
   "execution_count": 48,
   "metadata": {
    "scrolled": true
   },
   "outputs": [
    {
     "data": {
      "text/plain": [
       "array([104886.62733774,  46190.28427891,  51522.18488575,  72789.18575061,\n",
       "        30916.7128098 ,  19441.541907  , -26532.09133723, -34748.75601608,\n",
       "        15904.39018798])"
      ]
     },
     "execution_count": 48,
     "metadata": {},
     "output_type": "execute_result"
    }
   ],
   "source": [
    "lasso.coef_"
   ]
  },
  {
   "cell_type": "code",
   "execution_count": 49,
   "metadata": {},
   "outputs": [
    {
     "name": "stdout",
     "output_type": "stream",
     "text": [
      "630384.5967479814\n"
     ]
    },
    {
     "data": {
      "text/plain": [
       "0.47305438600922944"
      ]
     },
     "execution_count": 49,
     "metadata": {},
     "output_type": "execute_result"
    }
   ],
   "source": [
    "# intercepts\n",
    "print(lasso.intercept_)\n",
    "\n",
    "# Model Evaluation\n",
    "\n",
    "# calculating the  R squared error value\n",
    "from sklearn.metrics import r2_score\n",
    "r2_score(y_test,lassoy_pred)"
   ]
  },
  {
   "cell_type": "code",
   "execution_count": 50,
   "metadata": {},
   "outputs": [
    {
     "data": {
      "text/html": [
       "<div>\n",
       "<style scoped>\n",
       "    .dataframe tbody tr th:only-of-type {\n",
       "        vertical-align: middle;\n",
       "    }\n",
       "\n",
       "    .dataframe tbody tr th {\n",
       "        vertical-align: top;\n",
       "    }\n",
       "\n",
       "    .dataframe thead th {\n",
       "        text-align: right;\n",
       "    }\n",
       "</style>\n",
       "<table border=\"1\" class=\"dataframe\">\n",
       "  <thead>\n",
       "    <tr style=\"text-align: right;\">\n",
       "      <th></th>\n",
       "      <th>Actual</th>\n",
       "      <th>Predicted</th>\n",
       "    </tr>\n",
       "  </thead>\n",
       "  <tbody>\n",
       "    <tr>\n",
       "      <th>0</th>\n",
       "      <td>568884.929616</td>\n",
       "      <td>603245.325788</td>\n",
       "    </tr>\n",
       "    <tr>\n",
       "      <th>1</th>\n",
       "      <td>713738.318803</td>\n",
       "      <td>681383.210754</td>\n",
       "    </tr>\n",
       "    <tr>\n",
       "      <th>2</th>\n",
       "      <td>612133.855362</td>\n",
       "      <td>557055.041510</td>\n",
       "    </tr>\n",
       "    <tr>\n",
       "      <th>3</th>\n",
       "      <td>627383.211079</td>\n",
       "      <td>682547.140923</td>\n",
       "    </tr>\n",
       "    <tr>\n",
       "      <th>4</th>\n",
       "      <td>652391.301492</td>\n",
       "      <td>682547.140923</td>\n",
       "    </tr>\n",
       "    <tr>\n",
       "      <th>5</th>\n",
       "      <td>517490.142827</td>\n",
       "      <td>572395.423113</td>\n",
       "    </tr>\n",
       "    <tr>\n",
       "      <th>6</th>\n",
       "      <td>742735.524972</td>\n",
       "      <td>623850.797864</td>\n",
       "    </tr>\n",
       "    <tr>\n",
       "      <th>7</th>\n",
       "      <td>527852.327109</td>\n",
       "      <td>557055.041510</td>\n",
       "    </tr>\n",
       "    <tr>\n",
       "      <th>8</th>\n",
       "      <td>569058.334173</td>\n",
       "      <td>545579.870607</td>\n",
       "    </tr>\n",
       "    <tr>\n",
       "      <th>9</th>\n",
       "      <td>524486.341462</td>\n",
       "      <td>560887.084716</td>\n",
       "    </tr>\n",
       "    <tr>\n",
       "      <th>10</th>\n",
       "      <td>558686.665217</td>\n",
       "      <td>598927.514450</td>\n",
       "    </tr>\n",
       "  </tbody>\n",
       "</table>\n",
       "</div>"
      ],
      "text/plain": [
       "           Actual      Predicted\n",
       "0   568884.929616  603245.325788\n",
       "1   713738.318803  681383.210754\n",
       "2   612133.855362  557055.041510\n",
       "3   627383.211079  682547.140923\n",
       "4   652391.301492  682547.140923\n",
       "5   517490.142827  572395.423113\n",
       "6   742735.524972  623850.797864\n",
       "7   527852.327109  557055.041510\n",
       "8   569058.334173  545579.870607\n",
       "9   524486.341462  560887.084716\n",
       "10  558686.665217  598927.514450"
      ]
     },
     "execution_count": 50,
     "metadata": {},
     "output_type": "execute_result"
    }
   ],
   "source": [
    "# Printing actual vs predicted values\n",
    "predictlasso = pd.DataFrame({'Actual': y_test.flatten(), 'Predicted': lassoy_pred.flatten()})\n",
    "predictlasso"
   ]
  },
  {
   "cell_type": "code",
   "execution_count": 51,
   "metadata": {},
   "outputs": [
    {
     "data": {
      "image/png": "[encoded data removed]",
      "text/plain": [
       "<Figure size 360x216 with 1 Axes>"
      ]
     },
     "metadata": {},
     "output_type": "display_data"
    }
   ],
   "source": [
    "# Plotting the actual vs predicted values for Lasso model\n",
    "dflasso = predictlasso\n",
    "dflasso.plot(kind='bar',figsize=(5,3))\n",
    "plt.grid(which='major', linestyle='-', linewidth='0.5', color='green')\n",
    "plt.grid(which='minor', linestyle=':', linewidth='0.5', color='black')\n",
    "plt.show()"
   ]
  },
  {
   "cell_type": "code",
   "execution_count": 52,
   "metadata": {},
   "outputs": [
    {
     "name": "stdout",
     "output_type": "stream",
     "text": [
      "Mean Absolute Error: 46384.15306872276\n",
      "Mean Squared Error: 2791361166.15784\n",
      "Root Mean Squared Error: 52833.33385428029\n"
     ]
    }
   ],
   "source": [
    "from sklearn import metrics\n",
    "print('Mean Absolute Error:', metrics.mean_absolute_error(y_test, predictions_l))  \n",
    "print('Mean Squared Error:', metrics.mean_squared_error(y_test, predictions_l))  \n",
    "print('Root Mean Squared Error:', np.sqrt(metrics.mean_squared_error(y_test, predictions_l)))\n"
   ]
  },
  {
   "cell_type": "code",
   "execution_count": 53,
   "metadata": {},
   "outputs": [
    {
     "name": "stdout",
     "output_type": "stream",
     "text": [
      "Mean Absolute Error: 45823.72396892259\n",
      "Mean Squared Error: 3751826529.2142444\n",
      "Root Mean Squared Error: 61252.15530260339\n"
     ]
    }
   ],
   "source": [
    "print('Mean Absolute Error:', metrics.mean_absolute_error(y_test, ridgey_pred))  \n",
    "print('Mean Squared Error:', metrics.mean_squared_error(y_test, ridgey_pred))  \n",
    "print('Root Mean Squared Error:', np.sqrt(metrics.mean_squared_error(y_test, ridgey_pred)))\n"
   ]
  },
  {
   "cell_type": "code",
   "execution_count": 54,
   "metadata": {},
   "outputs": [
    {
     "name": "stdout",
     "output_type": "stream",
     "text": [
      "Mean Absolute Error: 46384.2604724622\n",
      "Mean Squared Error: 2791831305.8265114\n",
      "Root Mean Squared Error: 52837.78293822056\n"
     ]
    }
   ],
   "source": [
    "print('Mean Absolute Error:', metrics.mean_absolute_error(y_test, lassoy_pred))  \n",
    "print('Mean Squared Error:', metrics.mean_squared_error(y_test, lassoy_pred))  \n",
    "print('Root Mean Squared Error:', np.sqrt(metrics.mean_squared_error(y_test, lassoy_pred)))"
   ]
  },
  {
   "cell_type": "code",
   "execution_count": 55,
   "metadata": {},
   "outputs": [],
   "source": [
    "from sklearn.metrics import mean_squared_error\n",
    "from math import sqrt\n",
    "from sklearn.ensemble import RandomForestRegressor\n",
    "rdf = RandomForestRegressor(n_estimators=30)\n",
    "rdfreg = rdf.fit(X_train, y_train)"
   ]
  },
  {
   "cell_type": "code",
   "execution_count": 56,
   "metadata": {},
   "outputs": [
    {
     "name": "stdout",
     "output_type": "stream",
     "text": [
      "Regresion Model Score : 0.6893987805759842 , Out of Sample Test Score : -0.17982911841585825\n",
      "Training RMSE : 36935.31012103289 Testing RMSE : 79062.62775631536\n",
      "Training MAPE : 4.77107237333694 Testing MAPE : 10.803614084307762\n"
     ]
    }
   ],
   "source": [
    "def rmse(x, y):\n",
    "    return sqrt(mean_squared_error(x, y))\n",
    "\n",
    "# definte MAPE function\n",
    "def mape(x, y): \n",
    "    return np.mean(np.abs((x - y) / x)) * 100 \n",
    "\n",
    "print(\"Regresion Model Score\" , \":\" , rdfreg.score(X_train, y_train) , \",\" ,\n",
    "      \"Out of Sample Test Score\" ,\":\" , rdfreg.score(X_test, y_test))   \n",
    "\n",
    "yl_predicted = rdfreg.predict(X_train)\n",
    "yl_test_predicted = rdfreg.predict(X_test)\n",
    "\n",
    "print(\"Training RMSE\", \":\", rmse(y_train, yl_predicted),\n",
    "      \"Testing RMSE\", \":\", rmse(y_test, yl_test_predicted))\n",
    "print(\"Training MAPE\", \":\", mape(y_train, yl_predicted),\n",
    "      \"Testing MAPE\", \":\", mape(y_test, yl_test_predicted))"
   ]
  },
  {
   "cell_type": "code",
   "execution_count": 57,
   "metadata": {},
   "outputs": [
    {
     "data": {
      "text/plain": [
       "array([591880.87093339, 631357.20539108, 592675.73915326, 546406.21409177,\n",
       "       546406.21409177, 566208.1925253 , 579369.63087134, 592675.73915326,\n",
       "       543812.55162285, 616879.01148022, 587634.97193684])"
      ]
     },
     "execution_count": 57,
     "metadata": {},
     "output_type": "execute_result"
    }
   ],
   "source": [
    "yl_test_predicted"
   ]
  },
  {
   "cell_type": "code",
   "execution_count": 58,
   "metadata": {},
   "outputs": [
    {
     "data": {
      "text/html": [
       "<div>\n",
       "<style scoped>\n",
       "    .dataframe tbody tr th:only-of-type {\n",
       "        vertical-align: middle;\n",
       "    }\n",
       "\n",
       "    .dataframe tbody tr th {\n",
       "        vertical-align: top;\n",
       "    }\n",
       "\n",
       "    .dataframe thead th {\n",
       "        text-align: right;\n",
       "    }\n",
       "</style>\n",
       "<table border=\"1\" class=\"dataframe\">\n",
       "  <thead>\n",
       "    <tr style=\"text-align: right;\">\n",
       "      <th></th>\n",
       "      <th>Actual</th>\n",
       "      <th>Predicted</th>\n",
       "    </tr>\n",
       "  </thead>\n",
       "  <tbody>\n",
       "    <tr>\n",
       "      <th>0</th>\n",
       "      <td>568884.929616</td>\n",
       "      <td>591880.870933</td>\n",
       "    </tr>\n",
       "    <tr>\n",
       "      <th>1</th>\n",
       "      <td>713738.318803</td>\n",
       "      <td>631357.205391</td>\n",
       "    </tr>\n",
       "    <tr>\n",
       "      <th>2</th>\n",
       "      <td>612133.855362</td>\n",
       "      <td>592675.739153</td>\n",
       "    </tr>\n",
       "    <tr>\n",
       "      <th>3</th>\n",
       "      <td>627383.211079</td>\n",
       "      <td>546406.214092</td>\n",
       "    </tr>\n",
       "    <tr>\n",
       "      <th>4</th>\n",
       "      <td>652391.301492</td>\n",
       "      <td>546406.214092</td>\n",
       "    </tr>\n",
       "    <tr>\n",
       "      <th>5</th>\n",
       "      <td>517490.142827</td>\n",
       "      <td>566208.192525</td>\n",
       "    </tr>\n",
       "    <tr>\n",
       "      <th>6</th>\n",
       "      <td>742735.524972</td>\n",
       "      <td>579369.630871</td>\n",
       "    </tr>\n",
       "    <tr>\n",
       "      <th>7</th>\n",
       "      <td>527852.327109</td>\n",
       "      <td>592675.739153</td>\n",
       "    </tr>\n",
       "    <tr>\n",
       "      <th>8</th>\n",
       "      <td>569058.334173</td>\n",
       "      <td>543812.551623</td>\n",
       "    </tr>\n",
       "    <tr>\n",
       "      <th>9</th>\n",
       "      <td>524486.341462</td>\n",
       "      <td>616879.011480</td>\n",
       "    </tr>\n",
       "    <tr>\n",
       "      <th>10</th>\n",
       "      <td>558686.665217</td>\n",
       "      <td>587634.971937</td>\n",
       "    </tr>\n",
       "  </tbody>\n",
       "</table>\n",
       "</div>"
      ],
      "text/plain": [
       "           Actual      Predicted\n",
       "0   568884.929616  591880.870933\n",
       "1   713738.318803  631357.205391\n",
       "2   612133.855362  592675.739153\n",
       "3   627383.211079  546406.214092\n",
       "4   652391.301492  546406.214092\n",
       "5   517490.142827  566208.192525\n",
       "6   742735.524972  579369.630871\n",
       "7   527852.327109  592675.739153\n",
       "8   569058.334173  543812.551623\n",
       "9   524486.341462  616879.011480\n",
       "10  558686.665217  587634.971937"
      ]
     },
     "execution_count": 58,
     "metadata": {},
     "output_type": "execute_result"
    }
   ],
   "source": [
    "# Printing actual vs predicted values for Random Forest\n",
    "predictrandom = pd.DataFrame({'Actual': y_test.flatten(), 'Predicted': yl_test_predicted.flatten()})\n",
    "predictrandom"
   ]
  },
  {
   "cell_type": "code",
   "execution_count": 59,
   "metadata": {},
   "outputs": [
    {
     "data": {
      "image/png": "[encoded data removed]",
      "text/plain": [
       "<Figure size 360x216 with 1 Axes>"
      ]
     },
     "metadata": {},
     "output_type": "display_data"
    }
   ],
   "source": [
    "# Plotting the actual vs predicted values for Lasso model\n",
    "\n",
    "predictrandom.plot(kind='bar',figsize=(5,3))\n",
    "plt.grid(which='major', linestyle='-', linewidth='0.5', color='green')\n",
    "plt.grid(which='minor', linestyle=':', linewidth='0.5', color='black')\n",
    "plt.show()"
   ]
  },
  {
   "cell_type": "code",
   "execution_count": 60,
   "metadata": {},
   "outputs": [
    {
     "name": "stderr",
     "output_type": "stream",
     "text": [
      "C:\\Users\\pooja\\Anaconda3\\lib\\site-packages\\matplotlib\\text.py:1150: FutureWarning: elementwise comparison failed; returning scalar instead, but in the future will perform elementwise comparison\n",
      "  if s != self._text:\n"
     ]
    },
    {
     "data": {
      "text/plain": [
       "Text(0.5, 0, 'Relative Importance')"
      ]
     },
     "execution_count": 60,
     "metadata": {},
     "output_type": "execute_result"
    },
    {
     "data": {
      "image/png": "[encoded data removed]",
      "text/plain": [
       "<Figure size 360x216 with 1 Axes>"
      ]
     },
     "metadata": {},
     "output_type": "display_data"
    }
   ],
   "source": [
    "features = X_train\n",
    "importances = rdfreg.feature_importances_\n",
    "indices = np.argsort(importances)\n",
    "plt.figure(figsize=(5,3))\n",
    "plt.title('Feature Importances', fontsize=20)\n",
    "plt.barh(range(len(indices)), importances[indices], color='lightblue', align='center')\n",
    "plt.yticks(range(len(indices)), features[indices])\n",
    "plt.xlabel('Relative Importance')"
   ]
  },
  {
   "cell_type": "markdown",
   "metadata": {},
   "source": [
    "### We will choose Linear ols model as we got best accuracy and good Rsquare value as compare to other models"
   ]
  },
  {
   "cell_type": "code",
   "execution_count": null,
   "metadata": {},
   "outputs": [],
   "source": []
  },
  {
   "cell_type": "code",
   "execution_count": null,
   "metadata": {},
   "outputs": [],
   "source": []
  }
 ],
 "metadata": {
  "kernelspec": {
   "display_name": "Python 3",
   "language": "python",
   "name": "python3"
  },
  "language_info": {
   "codemirror_mode": {
    "name": "ipython",
    "version": 3
   },
   "file_extension": ".py",
   "mimetype": "text/x-python",
   "name": "python",
   "nbconvert_exporter": "python",
   "pygments_lexer": "ipython3",
   "version": "3.7.3"
  }
 },
 "nbformat": 4,
 "nbformat_minor": 2
}
